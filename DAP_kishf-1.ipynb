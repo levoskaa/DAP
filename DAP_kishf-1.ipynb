{
 "cells": [
  {
   "cell_type": "markdown",
   "metadata": {},
   "source": [
    "# DAP 1. kisházifeladat\n",
    "## Beadási határidő: 2021. 03. 08."
   ]
  },
  {
   "cell_type": "markdown",
   "metadata": {},
   "source": [
    "Egy áruház adatain fogunk dolgozni. A cél, hogy megtippeljük, hogy melyik országból származhatnak az adatok. Ha elvégzed a lenti feladatokat, akkor jó esélyed van rá, hogy a végén megtaláld a választ.\n",
    "\n",
    "_! A pont nem az ország megtippelésére jár, hanem a részfeladatokra! Ha nem találod meg az országot, akkor is kaphatsz maximális pontszámot._\n"
   ]
  },
  {
   "cell_type": "markdown",
   "metadata": {},
   "source": [
    "------------------"
   ]
  },
  {
   "cell_type": "markdown",
   "metadata": {},
   "source": [
    "### Szükséges csomagok beolvasása"
   ]
  },
  {
   "cell_type": "code",
   "execution_count": 309,
   "metadata": {
    "collapsed": true
   },
   "outputs": [],
   "source": [
    "import pandas as pd\n",
    "import matplotlib.pyplot as plt"
   ]
  },
  {
   "cell_type": "markdown",
   "metadata": {},
   "source": [
    "### -- Adj címet a szekciónak! --"
   ]
  },
  {
   "cell_type": "code",
   "execution_count": 310,
   "metadata": {
    "collapsed": true
   },
   "outputs": [],
   "source": [
    "df = pd.read_csv('../data/Dataset20210219.csv', sep=';') #df: DataFrame\n"
   ]
  },
  {
   "cell_type": "code",
   "execution_count": 311,
   "metadata": {},
   "outputs": [
    {
     "data": {
      "text/html": [
       "<div>\n",
       "<style scoped>\n",
       "    .dataframe tbody tr th:only-of-type {\n",
       "        vertical-align: middle;\n",
       "    }\n",
       "\n",
       "    .dataframe tbody tr th {\n",
       "        vertical-align: top;\n",
       "    }\n",
       "\n",
       "    .dataframe thead th {\n",
       "        text-align: right;\n",
       "    }\n",
       "</style>\n",
       "<table border=\"1\" class=\"dataframe\">\n",
       "  <thead>\n",
       "    <tr style=\"text-align: right;\">\n",
       "      <th></th>\n",
       "      <th>customer_id</th>\n",
       "      <th>visit_date</th>\n",
       "      <th>visit_spend</th>\n",
       "      <th>daynum</th>\n",
       "    </tr>\n",
       "  </thead>\n",
       "  <tbody>\n",
       "    <tr>\n",
       "      <th>0</th>\n",
       "      <td>2</td>\n",
       "      <td>2010-04-01</td>\n",
       "      <td>5.97</td>\n",
       "      <td>0</td>\n",
       "    </tr>\n",
       "    <tr>\n",
       "      <th>1</th>\n",
       "      <td>2</td>\n",
       "      <td>2010-04-06</td>\n",
       "      <td>12.71</td>\n",
       "      <td>5</td>\n",
       "    </tr>\n",
       "    <tr>\n",
       "      <th>2</th>\n",
       "      <td>2</td>\n",
       "      <td>2010-04-07</td>\n",
       "      <td>34.52</td>\n",
       "      <td>6</td>\n",
       "    </tr>\n",
       "    <tr>\n",
       "      <th>3</th>\n",
       "      <td>2</td>\n",
       "      <td>2010-04-12</td>\n",
       "      <td>7.89</td>\n",
       "      <td>11</td>\n",
       "    </tr>\n",
       "    <tr>\n",
       "      <th>4</th>\n",
       "      <td>2</td>\n",
       "      <td>2010-04-14</td>\n",
       "      <td>17.17</td>\n",
       "      <td>13</td>\n",
       "    </tr>\n",
       "  </tbody>\n",
       "</table>\n",
       "</div>"
      ],
      "text/plain": [
       "   customer_id  visit_date  visit_spend  daynum\n",
       "0            2  2010-04-01         5.97       0\n",
       "1            2  2010-04-06        12.71       5\n",
       "2            2  2010-04-07        34.52       6\n",
       "3            2  2010-04-12         7.89      11\n",
       "4            2  2010-04-14        17.17      13"
      ]
     },
     "execution_count": 311,
     "metadata": {},
     "output_type": "execute_result"
    }
   ],
   "source": [
    "# első sorok megjelenítése\n",
    "df.head()"
   ]
  },
  {
   "cell_type": "code",
   "execution_count": 312,
   "metadata": {},
   "outputs": [
    {
     "data": {
      "text/html": [
       "<div>\n",
       "<style scoped>\n",
       "    .dataframe tbody tr th:only-of-type {\n",
       "        vertical-align: middle;\n",
       "    }\n",
       "\n",
       "    .dataframe tbody tr th {\n",
       "        vertical-align: top;\n",
       "    }\n",
       "\n",
       "    .dataframe thead th {\n",
       "        text-align: right;\n",
       "    }\n",
       "</style>\n",
       "<table border=\"1\" class=\"dataframe\">\n",
       "  <thead>\n",
       "    <tr style=\"text-align: right;\">\n",
       "      <th></th>\n",
       "      <th>customer_id</th>\n",
       "      <th>visit_date</th>\n",
       "      <th>visit_spend</th>\n",
       "      <th>daynum</th>\n",
       "    </tr>\n",
       "  </thead>\n",
       "  <tbody>\n",
       "    <tr>\n",
       "      <th>0</th>\n",
       "      <td>2</td>\n",
       "      <td>2010-04-01</td>\n",
       "      <td>5.97</td>\n",
       "      <td>0</td>\n",
       "    </tr>\n",
       "    <tr>\n",
       "      <th>1</th>\n",
       "      <td>2</td>\n",
       "      <td>2010-04-06</td>\n",
       "      <td>12.71</td>\n",
       "      <td>5</td>\n",
       "    </tr>\n",
       "    <tr>\n",
       "      <th>2</th>\n",
       "      <td>2</td>\n",
       "      <td>2010-04-07</td>\n",
       "      <td>34.52</td>\n",
       "      <td>6</td>\n",
       "    </tr>\n",
       "  </tbody>\n",
       "</table>\n",
       "</div>"
      ],
      "text/plain": [
       "   customer_id  visit_date  visit_spend  daynum\n",
       "0            2  2010-04-01         5.97       0\n",
       "1            2  2010-04-06        12.71       5\n",
       "2            2  2010-04-07        34.52       6"
      ]
     },
     "execution_count": 312,
     "metadata": {},
     "output_type": "execute_result"
    }
   ],
   "source": [
    "df.head(3)"
   ]
  },
  {
   "cell_type": "code",
   "execution_count": 313,
   "metadata": {},
   "outputs": [
    {
     "data": {
      "text/html": [
       "<div>\n",
       "<style scoped>\n",
       "    .dataframe tbody tr th:only-of-type {\n",
       "        vertical-align: middle;\n",
       "    }\n",
       "\n",
       "    .dataframe tbody tr th {\n",
       "        vertical-align: top;\n",
       "    }\n",
       "\n",
       "    .dataframe thead th {\n",
       "        text-align: right;\n",
       "    }\n",
       "</style>\n",
       "<table border=\"1\" class=\"dataframe\">\n",
       "  <thead>\n",
       "    <tr style=\"text-align: right;\">\n",
       "      <th></th>\n",
       "      <th>customer_id</th>\n",
       "      <th>visit_date</th>\n",
       "      <th>visit_spend</th>\n",
       "      <th>daynum</th>\n",
       "    </tr>\n",
       "  </thead>\n",
       "  <tbody>\n",
       "    <tr>\n",
       "      <th>596727</th>\n",
       "      <td>7376</td>\n",
       "      <td>2011-05-14</td>\n",
       "      <td>24.71</td>\n",
       "      <td>408</td>\n",
       "    </tr>\n",
       "    <tr>\n",
       "      <th>596728</th>\n",
       "      <td>7376</td>\n",
       "      <td>2011-05-15</td>\n",
       "      <td>4.86</td>\n",
       "      <td>409</td>\n",
       "    </tr>\n",
       "    <tr>\n",
       "      <th>596729</th>\n",
       "      <td>7376</td>\n",
       "      <td>2011-05-24</td>\n",
       "      <td>56.55</td>\n",
       "      <td>418</td>\n",
       "    </tr>\n",
       "    <tr>\n",
       "      <th>596730</th>\n",
       "      <td>7376</td>\n",
       "      <td>2011-05-26</td>\n",
       "      <td>60.25</td>\n",
       "      <td>420</td>\n",
       "    </tr>\n",
       "    <tr>\n",
       "      <th>596731</th>\n",
       "      <td>7376</td>\n",
       "      <td>2011-06-09</td>\n",
       "      <td>159.15</td>\n",
       "      <td>434</td>\n",
       "    </tr>\n",
       "    <tr>\n",
       "      <th>596732</th>\n",
       "      <td>7376</td>\n",
       "      <td>2011-06-19</td>\n",
       "      <td>5.98</td>\n",
       "      <td>444</td>\n",
       "    </tr>\n",
       "  </tbody>\n",
       "</table>\n",
       "</div>"
      ],
      "text/plain": [
       "        customer_id  visit_date  visit_spend  daynum\n",
       "596727         7376  2011-05-14        24.71     408\n",
       "596728         7376  2011-05-15         4.86     409\n",
       "596729         7376  2011-05-24        56.55     418\n",
       "596730         7376  2011-05-26        60.25     420\n",
       "596731         7376  2011-06-09       159.15     434\n",
       "596732         7376  2011-06-19         5.98     444"
      ]
     },
     "execution_count": 313,
     "metadata": {},
     "output_type": "execute_result"
    }
   ],
   "source": [
    "# utolsó sorok megjelenítése\n",
    "df.tail(6)"
   ]
  },
  {
   "cell_type": "code",
   "execution_count": 314,
   "metadata": {},
   "outputs": [
    {
     "data": {
      "text/plain": [
       "0            2\n",
       "1            2\n",
       "2            2\n",
       "3            2\n",
       "4            2\n",
       "          ... \n",
       "596728    7376\n",
       "596729    7376\n",
       "596730    7376\n",
       "596731    7376\n",
       "596732    7376\n",
       "Name: customer_id, Length: 596733, dtype: int64"
      ]
     },
     "execution_count": 314,
     "metadata": {},
     "output_type": "execute_result"
    }
   ],
   "source": [
    "df['customer_id']"
   ]
  },
  {
   "cell_type": "code",
   "execution_count": 315,
   "metadata": {},
   "outputs": [
    {
     "data": {
      "text/html": [
       "<div>\n",
       "<style scoped>\n",
       "    .dataframe tbody tr th:only-of-type {\n",
       "        vertical-align: middle;\n",
       "    }\n",
       "\n",
       "    .dataframe tbody tr th {\n",
       "        vertical-align: top;\n",
       "    }\n",
       "\n",
       "    .dataframe thead th {\n",
       "        text-align: right;\n",
       "    }\n",
       "</style>\n",
       "<table border=\"1\" class=\"dataframe\">\n",
       "  <thead>\n",
       "    <tr style=\"text-align: right;\">\n",
       "      <th></th>\n",
       "      <th>customer_id</th>\n",
       "      <th>visit_date</th>\n",
       "    </tr>\n",
       "  </thead>\n",
       "  <tbody>\n",
       "    <tr>\n",
       "      <th>0</th>\n",
       "      <td>2</td>\n",
       "      <td>2010-04-01</td>\n",
       "    </tr>\n",
       "    <tr>\n",
       "      <th>1</th>\n",
       "      <td>2</td>\n",
       "      <td>2010-04-06</td>\n",
       "    </tr>\n",
       "    <tr>\n",
       "      <th>2</th>\n",
       "      <td>2</td>\n",
       "      <td>2010-04-07</td>\n",
       "    </tr>\n",
       "    <tr>\n",
       "      <th>3</th>\n",
       "      <td>2</td>\n",
       "      <td>2010-04-12</td>\n",
       "    </tr>\n",
       "    <tr>\n",
       "      <th>4</th>\n",
       "      <td>2</td>\n",
       "      <td>2010-04-14</td>\n",
       "    </tr>\n",
       "    <tr>\n",
       "      <th>...</th>\n",
       "      <td>...</td>\n",
       "      <td>...</td>\n",
       "    </tr>\n",
       "    <tr>\n",
       "      <th>596728</th>\n",
       "      <td>7376</td>\n",
       "      <td>2011-05-15</td>\n",
       "    </tr>\n",
       "    <tr>\n",
       "      <th>596729</th>\n",
       "      <td>7376</td>\n",
       "      <td>2011-05-24</td>\n",
       "    </tr>\n",
       "    <tr>\n",
       "      <th>596730</th>\n",
       "      <td>7376</td>\n",
       "      <td>2011-05-26</td>\n",
       "    </tr>\n",
       "    <tr>\n",
       "      <th>596731</th>\n",
       "      <td>7376</td>\n",
       "      <td>2011-06-09</td>\n",
       "    </tr>\n",
       "    <tr>\n",
       "      <th>596732</th>\n",
       "      <td>7376</td>\n",
       "      <td>2011-06-19</td>\n",
       "    </tr>\n",
       "  </tbody>\n",
       "</table>\n",
       "<p>596733 rows × 2 columns</p>\n",
       "</div>"
      ],
      "text/plain": [
       "        customer_id  visit_date\n",
       "0                 2  2010-04-01\n",
       "1                 2  2010-04-06\n",
       "2                 2  2010-04-07\n",
       "3                 2  2010-04-12\n",
       "4                 2  2010-04-14\n",
       "...             ...         ...\n",
       "596728         7376  2011-05-15\n",
       "596729         7376  2011-05-24\n",
       "596730         7376  2011-05-26\n",
       "596731         7376  2011-06-09\n",
       "596732         7376  2011-06-19\n",
       "\n",
       "[596733 rows x 2 columns]"
      ]
     },
     "execution_count": 315,
     "metadata": {},
     "output_type": "execute_result"
    }
   ],
   "source": [
    "df[['customer_id', 'visit_date']]"
   ]
  },
  {
   "cell_type": "markdown",
   "metadata": {},
   "source": [
    "-- _Mi a dataframe típusa?_ -- \\\n",
    "-- _Mi a dataframe egy oszlopának a típusa?_ --"
   ]
  },
  {
   "cell_type": "code",
   "execution_count": 316,
   "metadata": {},
   "outputs": [
    {
     "data": {
      "text/plain": [
       "pandas.core.frame.DataFrame"
      ]
     },
     "execution_count": 316,
     "metadata": {},
     "output_type": "execute_result"
    }
   ],
   "source": [
    "type(df)\n",
    "# DataFrame típusa = pandas.core.frame.DataFrame"
   ]
  },
  {
   "cell_type": "code",
   "execution_count": 317,
   "metadata": {},
   "outputs": [
    {
     "data": {
      "text/plain": [
       "pandas.core.series.Series"
      ]
     },
     "execution_count": 317,
     "metadata": {},
     "output_type": "execute_result"
    }
   ],
   "source": [
    "type(df['customer_id'])\n",
    "# DataFrame egy oszlopának típusa = pandas.core.series.Series"
   ]
  },
  {
   "cell_type": "markdown",
   "metadata": {},
   "source": [
    "-- _Hány sorból áll (milyen hossú) az adathalmaz?_ --"
   ]
  },
  {
   "cell_type": "code",
   "execution_count": 318,
   "metadata": {},
   "outputs": [
    {
     "data": {
      "text/plain": [
       "596733"
      ]
     },
     "execution_count": 318,
     "metadata": {},
     "output_type": "execute_result"
    }
   ],
   "source": [
    "df.shape[0]\n",
    "# 596733 sor"
   ]
  },
  {
   "cell_type": "markdown",
   "metadata": {},
   "source": [
    "-- _Röviden értelmezd a következő két szekciót!_ --"
   ]
  },
  {
   "cell_type": "code",
   "execution_count": 319,
   "metadata": {},
   "outputs": [
    {
     "data": {
      "text/plain": [
       "1234.0"
      ]
     },
     "execution_count": 319,
     "metadata": {},
     "output_type": "execute_result"
    }
   ],
   "source": [
    "# maximális költés\n",
    "df['visit_spend'].max()\n",
    "# A DataFrame 'visit_spend' oszlopában található értékek közül a legnagyobbat adja vissza a függvény.\n",
    "# Ez a legnagyobb összeg, amit valaki egy alkalommal elköltött az áruházban."
   ]
  },
  {
   "cell_type": "code",
   "execution_count": 320,
   "metadata": {},
   "outputs": [
    {
     "data": {
      "text/plain": [
       "<matplotlib.axes._subplots.AxesSubplot at 0x7f68fb3b8198>"
      ]
     },
     "execution_count": 320,
     "metadata": {},
     "output_type": "execute_result"
    },
    {
     "data": {
      "image/png": "[encoded data removed]",
      "text/plain": [
       "<Figure size 432x288 with 1 Axes>"
      ]
     },
     "metadata": {
      "needs_background": "light"
     },
     "output_type": "display_data"
    }
   ],
   "source": [
    "df['visit_spend'].hist(bins=100)\n",
    "# A DataFrame 'visit_spend' oszlopában található értékek eloszlását ábrázolja.\n",
    "# Az látható, hogy a kisebb összegű vásárlások sokkal gyakoribbak."
   ]
  },
  {
   "cell_type": "markdown",
   "metadata": {},
   "source": [
    "-- _Hány egyedi customer\\_id-t tartalmaz az adathalmaz?_ --"
   ]
  },
  {
   "cell_type": "code",
   "execution_count": 321,
   "metadata": {},
   "outputs": [
    {
     "data": {
      "text/plain": [
       "5000"
      ]
     },
     "execution_count": 321,
     "metadata": {},
     "output_type": "execute_result"
    }
   ],
   "source": [
    "#tipp: unique()\n",
    "df['customer_id'].nunique()\n",
    "# 5000 db"
   ]
  },
  {
   "cell_type": "code",
   "execution_count": 322,
   "metadata": {},
   "outputs": [
    {
     "data": {
      "text/html": [
       "<div>\n",
       "<style scoped>\n",
       "    .dataframe tbody tr th:only-of-type {\n",
       "        vertical-align: middle;\n",
       "    }\n",
       "\n",
       "    .dataframe tbody tr th {\n",
       "        vertical-align: top;\n",
       "    }\n",
       "\n",
       "    .dataframe thead th {\n",
       "        text-align: right;\n",
       "    }\n",
       "</style>\n",
       "<table border=\"1\" class=\"dataframe\">\n",
       "  <thead>\n",
       "    <tr style=\"text-align: right;\">\n",
       "      <th></th>\n",
       "      <th>customer_id</th>\n",
       "      <th>visit_date</th>\n",
       "      <th>visit_spend</th>\n",
       "      <th>daynum</th>\n",
       "    </tr>\n",
       "  </thead>\n",
       "  <tbody>\n",
       "    <tr>\n",
       "      <th>250905</th>\n",
       "      <td>3232</td>\n",
       "      <td>2011-05-31</td>\n",
       "      <td>1234.00</td>\n",
       "      <td>425</td>\n",
       "    </tr>\n",
       "    <tr>\n",
       "      <th>476027</th>\n",
       "      <td>5905</td>\n",
       "      <td>2010-09-17</td>\n",
       "      <td>1177.94</td>\n",
       "      <td>169</td>\n",
       "    </tr>\n",
       "  </tbody>\n",
       "</table>\n",
       "</div>"
      ],
      "text/plain": [
       "        customer_id  visit_date  visit_spend  daynum\n",
       "250905         3232  2011-05-31      1234.00     425\n",
       "476027         5905  2010-09-17      1177.94     169"
      ]
     },
     "execution_count": 322,
     "metadata": {},
     "output_type": "execute_result"
    }
   ],
   "source": [
    "#szűrés\n",
    "cond = df['visit_spend']>1000\n",
    "df[cond]"
   ]
  },
  {
   "cell_type": "markdown",
   "metadata": {},
   "source": [
    "-- _Röviden értelmezd a következő két szekciót!_ --"
   ]
  },
  {
   "cell_type": "code",
   "execution_count": 323,
   "metadata": {},
   "outputs": [
    {
     "data": {
      "text/html": [
       "<div>\n",
       "<style scoped>\n",
       "    .dataframe tbody tr th:only-of-type {\n",
       "        vertical-align: middle;\n",
       "    }\n",
       "\n",
       "    .dataframe tbody tr th {\n",
       "        vertical-align: top;\n",
       "    }\n",
       "\n",
       "    .dataframe thead th {\n",
       "        text-align: right;\n",
       "    }\n",
       "</style>\n",
       "<table border=\"1\" class=\"dataframe\">\n",
       "  <thead>\n",
       "    <tr style=\"text-align: right;\">\n",
       "      <th></th>\n",
       "      <th>customer_id</th>\n",
       "      <th>visit_date</th>\n",
       "      <th>visit_spend</th>\n",
       "      <th>daynum</th>\n",
       "      <th>pelda_datum</th>\n",
       "    </tr>\n",
       "  </thead>\n",
       "  <tbody>\n",
       "    <tr>\n",
       "      <th>0</th>\n",
       "      <td>2</td>\n",
       "      <td>2010-04-01</td>\n",
       "      <td>5.97</td>\n",
       "      <td>0</td>\n",
       "      <td>2010-04-012010-04-01</td>\n",
       "    </tr>\n",
       "    <tr>\n",
       "      <th>1</th>\n",
       "      <td>2</td>\n",
       "      <td>2010-04-06</td>\n",
       "      <td>12.71</td>\n",
       "      <td>5</td>\n",
       "      <td>2010-04-062010-04-06</td>\n",
       "    </tr>\n",
       "    <tr>\n",
       "      <th>2</th>\n",
       "      <td>2</td>\n",
       "      <td>2010-04-07</td>\n",
       "      <td>34.52</td>\n",
       "      <td>6</td>\n",
       "      <td>2010-04-072010-04-07</td>\n",
       "    </tr>\n",
       "    <tr>\n",
       "      <th>3</th>\n",
       "      <td>2</td>\n",
       "      <td>2010-04-12</td>\n",
       "      <td>7.89</td>\n",
       "      <td>11</td>\n",
       "      <td>2010-04-122010-04-12</td>\n",
       "    </tr>\n",
       "    <tr>\n",
       "      <th>4</th>\n",
       "      <td>2</td>\n",
       "      <td>2010-04-14</td>\n",
       "      <td>17.17</td>\n",
       "      <td>13</td>\n",
       "      <td>2010-04-142010-04-14</td>\n",
       "    </tr>\n",
       "  </tbody>\n",
       "</table>\n",
       "</div>"
      ],
      "text/plain": [
       "   customer_id  visit_date  visit_spend  daynum           pelda_datum\n",
       "0            2  2010-04-01         5.97       0  2010-04-012010-04-01\n",
       "1            2  2010-04-06        12.71       5  2010-04-062010-04-06\n",
       "2            2  2010-04-07        34.52       6  2010-04-072010-04-07\n",
       "3            2  2010-04-12         7.89      11  2010-04-122010-04-12\n",
       "4            2  2010-04-14        17.17      13  2010-04-142010-04-14"
      ]
     },
     "execution_count": 323,
     "metadata": {},
     "output_type": "execute_result"
    }
   ],
   "source": [
    "df['pelda_datum'] = df['visit_date']*2\n",
    "df.head()\n",
    "# Hozzáad egy új 'pelda_datum' oszlopot a DataFrame-hez, amit a 'visit_date' oszlopból vezet le úgy,\n",
    "# hogy elemenként megkétszerezi a 'visit_date' értékeit. Mivel ezek stringek, ezért az új érték\n",
    "# az eredeti érték kétszer egymás után írva."
   ]
  },
  {
   "cell_type": "code",
   "execution_count": 324,
   "metadata": {},
   "outputs": [
    {
     "data": {
      "text/html": [
       "<div>\n",
       "<style scoped>\n",
       "    .dataframe tbody tr th:only-of-type {\n",
       "        vertical-align: middle;\n",
       "    }\n",
       "\n",
       "    .dataframe tbody tr th {\n",
       "        vertical-align: top;\n",
       "    }\n",
       "\n",
       "    .dataframe thead th {\n",
       "        text-align: right;\n",
       "    }\n",
       "</style>\n",
       "<table border=\"1\" class=\"dataframe\">\n",
       "  <thead>\n",
       "    <tr style=\"text-align: right;\">\n",
       "      <th></th>\n",
       "      <th>customer_id</th>\n",
       "      <th>visit_date</th>\n",
       "      <th>visit_spend</th>\n",
       "      <th>daynum</th>\n",
       "    </tr>\n",
       "  </thead>\n",
       "  <tbody>\n",
       "    <tr>\n",
       "      <th>0</th>\n",
       "      <td>2</td>\n",
       "      <td>2010-04-01</td>\n",
       "      <td>5.97</td>\n",
       "      <td>0</td>\n",
       "    </tr>\n",
       "    <tr>\n",
       "      <th>1</th>\n",
       "      <td>2</td>\n",
       "      <td>2010-04-06</td>\n",
       "      <td>12.71</td>\n",
       "      <td>5</td>\n",
       "    </tr>\n",
       "    <tr>\n",
       "      <th>2</th>\n",
       "      <td>2</td>\n",
       "      <td>2010-04-07</td>\n",
       "      <td>34.52</td>\n",
       "      <td>6</td>\n",
       "    </tr>\n",
       "    <tr>\n",
       "      <th>3</th>\n",
       "      <td>2</td>\n",
       "      <td>2010-04-12</td>\n",
       "      <td>7.89</td>\n",
       "      <td>11</td>\n",
       "    </tr>\n",
       "    <tr>\n",
       "      <th>4</th>\n",
       "      <td>2</td>\n",
       "      <td>2010-04-14</td>\n",
       "      <td>17.17</td>\n",
       "      <td>13</td>\n",
       "    </tr>\n",
       "  </tbody>\n",
       "</table>\n",
       "</div>"
      ],
      "text/plain": [
       "   customer_id  visit_date  visit_spend  daynum\n",
       "0            2  2010-04-01         5.97       0\n",
       "1            2  2010-04-06        12.71       5\n",
       "2            2  2010-04-07        34.52       6\n",
       "3            2  2010-04-12         7.89      11\n",
       "4            2  2010-04-14        17.17      13"
      ]
     },
     "execution_count": 324,
     "metadata": {},
     "output_type": "execute_result"
    }
   ],
   "source": [
    "del df['pelda_datum']\n",
    "df.head()\n",
    "# Törli az előbb hozzáadott 'pelda_datum' oszlopot a DataFrame-ből."
   ]
  },
  {
   "cell_type": "markdown",
   "metadata": {},
   "source": [
    "## Melyik napon vásárolnak a legnagyobb értékben?"
   ]
  },
  {
   "cell_type": "markdown",
   "metadata": {},
   "source": [
    "### A hét melyik napja van?"
   ]
  },
  {
   "cell_type": "markdown",
   "metadata": {},
   "source": [
    "-- _A daynum változó megadja, hogy az adathalmazban hányadik napra esik az adott vásárlás. Az indexelés 0-tól kezdődik. Ez alapján hozz létre egy új oszlopot (day\\_of\\_week), ami 0-tól 6-ig indexeli a hét napjait. (0: hétfő, 1: kedd, stb.)_ --"
   ]
  },
  {
   "cell_type": "code",
   "execution_count": 325,
   "metadata": {},
   "outputs": [
    {
     "data": {
      "text/html": [
       "<div>\n",
       "<style scoped>\n",
       "    .dataframe tbody tr th:only-of-type {\n",
       "        vertical-align: middle;\n",
       "    }\n",
       "\n",
       "    .dataframe tbody tr th {\n",
       "        vertical-align: top;\n",
       "    }\n",
       "\n",
       "    .dataframe thead th {\n",
       "        text-align: right;\n",
       "    }\n",
       "</style>\n",
       "<table border=\"1\" class=\"dataframe\">\n",
       "  <thead>\n",
       "    <tr style=\"text-align: right;\">\n",
       "      <th></th>\n",
       "      <th>customer_id</th>\n",
       "      <th>visit_date</th>\n",
       "      <th>visit_spend</th>\n",
       "      <th>daynum</th>\n",
       "      <th>day_of_week</th>\n",
       "    </tr>\n",
       "  </thead>\n",
       "  <tbody>\n",
       "    <tr>\n",
       "      <th>0</th>\n",
       "      <td>2</td>\n",
       "      <td>2010-04-01</td>\n",
       "      <td>5.97</td>\n",
       "      <td>0</td>\n",
       "      <td>3</td>\n",
       "    </tr>\n",
       "    <tr>\n",
       "      <th>1</th>\n",
       "      <td>2</td>\n",
       "      <td>2010-04-06</td>\n",
       "      <td>12.71</td>\n",
       "      <td>5</td>\n",
       "      <td>1</td>\n",
       "    </tr>\n",
       "    <tr>\n",
       "      <th>2</th>\n",
       "      <td>2</td>\n",
       "      <td>2010-04-07</td>\n",
       "      <td>34.52</td>\n",
       "      <td>6</td>\n",
       "      <td>2</td>\n",
       "    </tr>\n",
       "    <tr>\n",
       "      <th>3</th>\n",
       "      <td>2</td>\n",
       "      <td>2010-04-12</td>\n",
       "      <td>7.89</td>\n",
       "      <td>11</td>\n",
       "      <td>0</td>\n",
       "    </tr>\n",
       "    <tr>\n",
       "      <th>4</th>\n",
       "      <td>2</td>\n",
       "      <td>2010-04-14</td>\n",
       "      <td>17.17</td>\n",
       "      <td>13</td>\n",
       "      <td>2</td>\n",
       "    </tr>\n",
       "    <tr>\n",
       "      <th>...</th>\n",
       "      <td>...</td>\n",
       "      <td>...</td>\n",
       "      <td>...</td>\n",
       "      <td>...</td>\n",
       "      <td>...</td>\n",
       "    </tr>\n",
       "    <tr>\n",
       "      <th>596728</th>\n",
       "      <td>7376</td>\n",
       "      <td>2011-05-15</td>\n",
       "      <td>4.86</td>\n",
       "      <td>409</td>\n",
       "      <td>6</td>\n",
       "    </tr>\n",
       "    <tr>\n",
       "      <th>596729</th>\n",
       "      <td>7376</td>\n",
       "      <td>2011-05-24</td>\n",
       "      <td>56.55</td>\n",
       "      <td>418</td>\n",
       "      <td>1</td>\n",
       "    </tr>\n",
       "    <tr>\n",
       "      <th>596730</th>\n",
       "      <td>7376</td>\n",
       "      <td>2011-05-26</td>\n",
       "      <td>60.25</td>\n",
       "      <td>420</td>\n",
       "      <td>3</td>\n",
       "    </tr>\n",
       "    <tr>\n",
       "      <th>596731</th>\n",
       "      <td>7376</td>\n",
       "      <td>2011-06-09</td>\n",
       "      <td>159.15</td>\n",
       "      <td>434</td>\n",
       "      <td>3</td>\n",
       "    </tr>\n",
       "    <tr>\n",
       "      <th>596732</th>\n",
       "      <td>7376</td>\n",
       "      <td>2011-06-19</td>\n",
       "      <td>5.98</td>\n",
       "      <td>444</td>\n",
       "      <td>6</td>\n",
       "    </tr>\n",
       "  </tbody>\n",
       "</table>\n",
       "<p>596733 rows × 5 columns</p>\n",
       "</div>"
      ],
      "text/plain": [
       "        customer_id  visit_date  visit_spend  daynum  day_of_week\n",
       "0                 2  2010-04-01         5.97       0            3\n",
       "1                 2  2010-04-06        12.71       5            1\n",
       "2                 2  2010-04-07        34.52       6            2\n",
       "3                 2  2010-04-12         7.89      11            0\n",
       "4                 2  2010-04-14        17.17      13            2\n",
       "...             ...         ...          ...     ...          ...\n",
       "596728         7376  2011-05-15         4.86     409            6\n",
       "596729         7376  2011-05-24        56.55     418            1\n",
       "596730         7376  2011-05-26        60.25     420            3\n",
       "596731         7376  2011-06-09       159.15     434            3\n",
       "596732         7376  2011-06-19         5.98     444            6\n",
       "\n",
       "[596733 rows x 5 columns]"
      ]
     },
     "execution_count": 325,
     "metadata": {},
     "output_type": "execute_result"
    }
   ],
   "source": [
    "#tipp: modulo (%)\n",
    "df['day_of_week'] = (df['daynum'] + 3) % 7\n",
    "df\n",
    "# A 0-ás daynum értékhez tartozó elem egy 2010-04-01 dátumú vásárlás, ami csütörtök volt, ezért 3-al el\n",
    "# kell csúsztatni a modulo számolást."
   ]
  },
  {
   "cell_type": "code",
   "execution_count": 326,
   "metadata": {},
   "outputs": [
    {
     "data": {
      "text/plain": [
       "<matplotlib.axes._subplots.AxesSubplot at 0x7f68fb23e9b0>"
      ]
     },
     "execution_count": 326,
     "metadata": {},
     "output_type": "execute_result"
    },
    {
     "data": {
      "image/png": "[encoded data removed]",
      "text/plain": [
       "<Figure size 432x288 with 1 Axes>"
      ]
     },
     "metadata": {
      "needs_background": "light"
     },
     "output_type": "display_data"
    }
   ],
   "source": [
    "df['day_of_week'].hist(bins=7)"
   ]
  },
  {
   "cell_type": "markdown",
   "metadata": {},
   "source": [
    "-- _Melyik napon költöttek a legtöbbet összesen?_ --"
   ]
  },
  {
   "cell_type": "code",
   "execution_count": 327,
   "metadata": {},
   "outputs": [
    {
     "name": "stdout",
     "output_type": "stream",
     "text": [
      "   day_of_week  visit_spend\n",
      "0            0   3131751.41\n",
      "1            1   3247763.71\n",
      "2            2   3458215.31\n",
      "3            3   4726884.89\n",
      "4            4   5293651.86\n",
      "5            5   4772753.94\n",
      "6            6   2197912.88\n",
      "\n",
      "4\n"
     ]
    }
   ],
   "source": [
    "spend_by_day_of_week = df.groupby(['day_of_week'], as_index = False).agg({'visit_spend': 'sum'})\n",
    "print(spend_by_day_of_week)\n",
    "print('\\n{}'.format(spend_by_day_of_week['visit_spend'].idxmax()))\n",
    "# Pénteken"
   ]
  },
  {
   "cell_type": "code",
   "execution_count": 328,
   "metadata": {},
   "outputs": [
    {
     "name": "stdout",
     "output_type": "stream",
     "text": [
      "     visit_date  visit_spend\n",
      "0    2010-04-01    102625.86\n",
      "1    2010-04-02     82660.90\n",
      "2    2010-04-03     78081.71\n",
      "3    2010-04-04      4411.05\n",
      "4    2010-04-05     38144.77\n",
      "..          ...          ...\n",
      "439  2011-06-15     51252.38\n",
      "440  2011-06-16     68920.34\n",
      "441  2011-06-17     80762.94\n",
      "442  2011-06-18     81009.66\n",
      "443  2011-06-19     33933.16\n",
      "\n",
      "[444 rows x 2 columns]\n",
      "\n",
      "2010-12-22\n"
     ]
    }
   ],
   "source": [
    "# Vagy ha ez a kérdés\n",
    "spend_by_day = df.groupby(['visit_date'], as_index=False).agg({'visit_spend': 'sum'})\n",
    "print(spend_by_day)\n",
    "print('\\n{}'.format(spend_by_day.loc[spend_by_day['visit_spend'].idxmax()]['visit_date']))\n",
    "# 2010.12.22-én"
   ]
  },
  {
   "cell_type": "markdown",
   "metadata": {},
   "source": [
    "## Aggregálás és összefűzés"
   ]
  },
  {
   "cell_type": "code",
   "execution_count": 329,
   "metadata": {},
   "outputs": [
    {
     "data": {
      "text/html": [
       "<div>\n",
       "<style scoped>\n",
       "    .dataframe tbody tr th:only-of-type {\n",
       "        vertical-align: middle;\n",
       "    }\n",
       "\n",
       "    .dataframe tbody tr th {\n",
       "        vertical-align: top;\n",
       "    }\n",
       "\n",
       "    .dataframe thead th {\n",
       "        text-align: right;\n",
       "    }\n",
       "</style>\n",
       "<table border=\"1\" class=\"dataframe\">\n",
       "  <thead>\n",
       "    <tr style=\"text-align: right;\">\n",
       "      <th></th>\n",
       "      <th>day_of_week</th>\n",
       "      <th>visit_spend</th>\n",
       "    </tr>\n",
       "  </thead>\n",
       "  <tbody>\n",
       "    <tr>\n",
       "      <th>0</th>\n",
       "      <td>0</td>\n",
       "      <td>3131751.41</td>\n",
       "    </tr>\n",
       "    <tr>\n",
       "      <th>1</th>\n",
       "      <td>1</td>\n",
       "      <td>3247763.71</td>\n",
       "    </tr>\n",
       "    <tr>\n",
       "      <th>2</th>\n",
       "      <td>2</td>\n",
       "      <td>3458215.31</td>\n",
       "    </tr>\n",
       "    <tr>\n",
       "      <th>3</th>\n",
       "      <td>3</td>\n",
       "      <td>4726884.89</td>\n",
       "    </tr>\n",
       "    <tr>\n",
       "      <th>4</th>\n",
       "      <td>4</td>\n",
       "      <td>5293651.86</td>\n",
       "    </tr>\n",
       "    <tr>\n",
       "      <th>5</th>\n",
       "      <td>5</td>\n",
       "      <td>4772753.94</td>\n",
       "    </tr>\n",
       "    <tr>\n",
       "      <th>6</th>\n",
       "      <td>6</td>\n",
       "      <td>2197912.88</td>\n",
       "    </tr>\n",
       "  </tbody>\n",
       "</table>\n",
       "</div>"
      ],
      "text/plain": [
       "   day_of_week  visit_spend\n",
       "0            0   3131751.41\n",
       "1            1   3247763.71\n",
       "2            2   3458215.31\n",
       "3            3   4726884.89\n",
       "4            4   5293651.86\n",
       "5            5   4772753.94\n",
       "6            6   2197912.88"
      ]
     },
     "execution_count": 329,
     "metadata": {},
     "output_type": "execute_result"
    }
   ],
   "source": [
    "stat = df.groupby(['day_of_week'], as_index=False).agg({'visit_spend':'sum'})\n",
    "stat"
   ]
  },
  {
   "cell_type": "markdown",
   "metadata": {},
   "source": [
    "-- _Töltsd ki magyarul a címet és a tengelyfeliratot!_ --"
   ]
  },
  {
   "cell_type": "code",
   "execution_count": 330,
   "metadata": {},
   "outputs": [
    {
     "data": {
      "text/plain": [
       "[<matplotlib.lines.Line2D at 0x7f68fb1e21d0>]"
      ]
     },
     "execution_count": 330,
     "metadata": {},
     "output_type": "execute_result"
    },
    {
     "data": {
      "image/png": "[encoded data removed]",
      "text/plain": [
       "<Figure size 432x288 with 1 Axes>"
      ]
     },
     "metadata": {
      "needs_background": "light"
     },
     "output_type": "display_data"
    }
   ],
   "source": [
    "plt.title('A hét napjain elköltött összeg összesítve')\n",
    "plt.xlabel('A hét napjai')\n",
    "plt.plot(stat['day_of_week'], stat['visit_spend'], 'g--', marker='o')"
   ]
  },
  {
   "cell_type": "markdown",
   "metadata": {},
   "source": [
    "-- _Egészítsd ki az alábbi kódot úgy, hogy a dátum is benne legyen a stat változó oszlopai közt!_ -- "
   ]
  },
  {
   "cell_type": "code",
   "execution_count": 331,
   "metadata": {},
   "outputs": [
    {
     "data": {
      "text/html": [
       "<div>\n",
       "<style scoped>\n",
       "    .dataframe tbody tr th:only-of-type {\n",
       "        vertical-align: middle;\n",
       "    }\n",
       "\n",
       "    .dataframe tbody tr th {\n",
       "        vertical-align: top;\n",
       "    }\n",
       "\n",
       "    .dataframe thead th {\n",
       "        text-align: right;\n",
       "    }\n",
       "</style>\n",
       "<table border=\"1\" class=\"dataframe\">\n",
       "  <thead>\n",
       "    <tr style=\"text-align: right;\">\n",
       "      <th></th>\n",
       "      <th>daynum</th>\n",
       "      <th>visit_date</th>\n",
       "      <th>visit_spend</th>\n",
       "    </tr>\n",
       "  </thead>\n",
       "  <tbody>\n",
       "    <tr>\n",
       "      <th>0</th>\n",
       "      <td>0</td>\n",
       "      <td>2010-04-01</td>\n",
       "      <td>102625.86</td>\n",
       "    </tr>\n",
       "    <tr>\n",
       "      <th>1</th>\n",
       "      <td>1</td>\n",
       "      <td>2010-04-02</td>\n",
       "      <td>82660.90</td>\n",
       "    </tr>\n",
       "    <tr>\n",
       "      <th>2</th>\n",
       "      <td>2</td>\n",
       "      <td>2010-04-03</td>\n",
       "      <td>78081.71</td>\n",
       "    </tr>\n",
       "    <tr>\n",
       "      <th>3</th>\n",
       "      <td>3</td>\n",
       "      <td>2010-04-04</td>\n",
       "      <td>4411.05</td>\n",
       "    </tr>\n",
       "    <tr>\n",
       "      <th>4</th>\n",
       "      <td>4</td>\n",
       "      <td>2010-04-05</td>\n",
       "      <td>38144.77</td>\n",
       "    </tr>\n",
       "    <tr>\n",
       "      <th>...</th>\n",
       "      <td>...</td>\n",
       "      <td>...</td>\n",
       "      <td>...</td>\n",
       "    </tr>\n",
       "    <tr>\n",
       "      <th>439</th>\n",
       "      <td>440</td>\n",
       "      <td>2011-06-15</td>\n",
       "      <td>51252.38</td>\n",
       "    </tr>\n",
       "    <tr>\n",
       "      <th>440</th>\n",
       "      <td>441</td>\n",
       "      <td>2011-06-16</td>\n",
       "      <td>68920.34</td>\n",
       "    </tr>\n",
       "    <tr>\n",
       "      <th>441</th>\n",
       "      <td>442</td>\n",
       "      <td>2011-06-17</td>\n",
       "      <td>80762.94</td>\n",
       "    </tr>\n",
       "    <tr>\n",
       "      <th>442</th>\n",
       "      <td>443</td>\n",
       "      <td>2011-06-18</td>\n",
       "      <td>81009.66</td>\n",
       "    </tr>\n",
       "    <tr>\n",
       "      <th>443</th>\n",
       "      <td>444</td>\n",
       "      <td>2011-06-19</td>\n",
       "      <td>33933.16</td>\n",
       "    </tr>\n",
       "  </tbody>\n",
       "</table>\n",
       "<p>444 rows × 3 columns</p>\n",
       "</div>"
      ],
      "text/plain": [
       "     daynum  visit_date  visit_spend\n",
       "0         0  2010-04-01    102625.86\n",
       "1         1  2010-04-02     82660.90\n",
       "2         2  2010-04-03     78081.71\n",
       "3         3  2010-04-04      4411.05\n",
       "4         4  2010-04-05     38144.77\n",
       "..      ...         ...          ...\n",
       "439     440  2011-06-15     51252.38\n",
       "440     441  2011-06-16     68920.34\n",
       "441     442  2011-06-17     80762.94\n",
       "442     443  2011-06-18     81009.66\n",
       "443     444  2011-06-19     33933.16\n",
       "\n",
       "[444 rows x 3 columns]"
      ]
     },
     "execution_count": 331,
     "metadata": {},
     "output_type": "execute_result"
    }
   ],
   "source": [
    "stat = df.groupby(['daynum', 'visit_date'], as_index=False).agg({'visit_spend':'sum'})\n",
    "stat"
   ]
  },
  {
   "cell_type": "markdown",
   "metadata": {},
   "source": [
    "-- _Ábrázold a teljes napi költést a napok függvényében (daynum)!_ --"
   ]
  },
  {
   "cell_type": "code",
   "execution_count": 332,
   "metadata": {},
   "outputs": [
    {
     "data": {
      "text/plain": [
       "[<matplotlib.lines.Line2D at 0x7f68fb1b9940>]"
      ]
     },
     "execution_count": 332,
     "metadata": {},
     "output_type": "execute_result"
    },
    {
     "data": {
      "image/png": "[encoded data removed]",
      "text/plain": [
       "<Figure size 432x288 with 1 Axes>"
      ]
     },
     "metadata": {
      "needs_background": "light"
     },
     "output_type": "display_data"
    }
   ],
   "source": [
    "plt.plot(stat['daynum'], stat['visit_spend'], 'g--', marker='o')"
   ]
  },
  {
   "cell_type": "markdown",
   "metadata": {},
   "source": [
    "-- _Nagyíts bele a plotba, figyeld meg a 250. és a 300. nap közötti költéseket! (A nagyítást mi előre megírtuk, neked már csak ábrázolnod kell.)_ --"
   ]
  },
  {
   "cell_type": "code",
   "execution_count": 333,
   "metadata": {},
   "outputs": [
    {
     "data": {
      "text/plain": [
       "[<matplotlib.lines.Line2D at 0x7f68fb167748>]"
      ]
     },
     "execution_count": 333,
     "metadata": {},
     "output_type": "execute_result"
    },
    {
     "data": {
      "image/png": "[encoded data removed]",
      "text/plain": [
       "<Figure size 432x288 with 1 Axes>"
      ]
     },
     "metadata": {
      "needs_background": "light"
     },
     "output_type": "display_data"
    }
   ],
   "source": [
    "plt.xlim(250,300)\n",
    "plt.plot(stat['daynum'], stat['visit_spend'], 'g--', marker='o')"
   ]
  },
  {
   "cell_type": "markdown",
   "metadata": {},
   "source": [
    "-- _Egy mondatban foglald össze a látottakat!_ --"
   ]
  },
  {
   "cell_type": "markdown",
   "metadata": {},
   "source": [
    "Itt is megfigyelhető a hét napjain elköltött összeg ingadozása: korábbról tudjuk, hogy pénteken költötték a legtöbbet vasárnap pedig a legkevesebbet. A lokális maximumok valószínűleg pénteki napoknak, a lokális minimumok pedig vasárnapi napoknak felelnek meg. Egy másik érdekesség látható a 260-270 napok között, ami karácsonynak felel meg. Karácsony előtt emelkedett az elköltött összeg, majd karácsony alatt nagyot csökkent."
   ]
  },
  {
   "cell_type": "markdown",
   "metadata": {},
   "source": [
    "## Adott napi átlagos költéstől való eltérés"
   ]
  },
  {
   "cell_type": "code",
   "execution_count": 334,
   "metadata": {},
   "outputs": [
    {
     "data": {
      "text/html": [
       "<div>\n",
       "<style scoped>\n",
       "    .dataframe tbody tr th:only-of-type {\n",
       "        vertical-align: middle;\n",
       "    }\n",
       "\n",
       "    .dataframe tbody tr th {\n",
       "        vertical-align: top;\n",
       "    }\n",
       "\n",
       "    .dataframe thead th {\n",
       "        text-align: right;\n",
       "    }\n",
       "</style>\n",
       "<table border=\"1\" class=\"dataframe\">\n",
       "  <thead>\n",
       "    <tr style=\"text-align: right;\">\n",
       "      <th></th>\n",
       "      <th>daynum</th>\n",
       "      <th>visit_date</th>\n",
       "      <th>visit_spend</th>\n",
       "    </tr>\n",
       "  </thead>\n",
       "  <tbody>\n",
       "    <tr>\n",
       "      <th>0</th>\n",
       "      <td>0</td>\n",
       "      <td>2010-04-01</td>\n",
       "      <td>102625.86</td>\n",
       "    </tr>\n",
       "    <tr>\n",
       "      <th>1</th>\n",
       "      <td>1</td>\n",
       "      <td>2010-04-02</td>\n",
       "      <td>82660.90</td>\n",
       "    </tr>\n",
       "    <tr>\n",
       "      <th>2</th>\n",
       "      <td>2</td>\n",
       "      <td>2010-04-03</td>\n",
       "      <td>78081.71</td>\n",
       "    </tr>\n",
       "    <tr>\n",
       "      <th>3</th>\n",
       "      <td>3</td>\n",
       "      <td>2010-04-04</td>\n",
       "      <td>4411.05</td>\n",
       "    </tr>\n",
       "    <tr>\n",
       "      <th>4</th>\n",
       "      <td>4</td>\n",
       "      <td>2010-04-05</td>\n",
       "      <td>38144.77</td>\n",
       "    </tr>\n",
       "  </tbody>\n",
       "</table>\n",
       "</div>"
      ],
      "text/plain": [
       "   daynum  visit_date  visit_spend\n",
       "0       0  2010-04-01    102625.86\n",
       "1       1  2010-04-02     82660.90\n",
       "2       2  2010-04-03     78081.71\n",
       "3       3  2010-04-04      4411.05\n",
       "4       4  2010-04-05     38144.77"
      ]
     },
     "execution_count": 334,
     "metadata": {},
     "output_type": "execute_result"
    }
   ],
   "source": [
    "stat.head()"
   ]
  },
  {
   "cell_type": "code",
   "execution_count": 335,
   "metadata": {},
   "outputs": [
    {
     "data": {
      "text/html": [
       "<div>\n",
       "<style scoped>\n",
       "    .dataframe tbody tr th:only-of-type {\n",
       "        vertical-align: middle;\n",
       "    }\n",
       "\n",
       "    .dataframe tbody tr th {\n",
       "        vertical-align: top;\n",
       "    }\n",
       "\n",
       "    .dataframe thead th {\n",
       "        text-align: right;\n",
       "    }\n",
       "</style>\n",
       "<table border=\"1\" class=\"dataframe\">\n",
       "  <thead>\n",
       "    <tr style=\"text-align: right;\">\n",
       "      <th></th>\n",
       "      <th>daynum</th>\n",
       "      <th>visit_date</th>\n",
       "      <th>daily_total</th>\n",
       "    </tr>\n",
       "  </thead>\n",
       "  <tbody>\n",
       "    <tr>\n",
       "      <th>0</th>\n",
       "      <td>0</td>\n",
       "      <td>2010-04-01</td>\n",
       "      <td>102625.86</td>\n",
       "    </tr>\n",
       "    <tr>\n",
       "      <th>1</th>\n",
       "      <td>1</td>\n",
       "      <td>2010-04-02</td>\n",
       "      <td>82660.90</td>\n",
       "    </tr>\n",
       "    <tr>\n",
       "      <th>2</th>\n",
       "      <td>2</td>\n",
       "      <td>2010-04-03</td>\n",
       "      <td>78081.71</td>\n",
       "    </tr>\n",
       "    <tr>\n",
       "      <th>3</th>\n",
       "      <td>3</td>\n",
       "      <td>2010-04-04</td>\n",
       "      <td>4411.05</td>\n",
       "    </tr>\n",
       "    <tr>\n",
       "      <th>4</th>\n",
       "      <td>4</td>\n",
       "      <td>2010-04-05</td>\n",
       "      <td>38144.77</td>\n",
       "    </tr>\n",
       "  </tbody>\n",
       "</table>\n",
       "</div>"
      ],
      "text/plain": [
       "   daynum  visit_date  daily_total\n",
       "0       0  2010-04-01    102625.86\n",
       "1       1  2010-04-02     82660.90\n",
       "2       2  2010-04-03     78081.71\n",
       "3       3  2010-04-04      4411.05\n",
       "4       4  2010-04-05     38144.77"
      ]
     },
     "execution_count": 335,
     "metadata": {},
     "output_type": "execute_result"
    }
   ],
   "source": [
    "# oszlopok újranevezése\n",
    "stat.columns=['daynum', 'visit_date', 'daily_total']\n",
    "stat.head()"
   ]
  },
  {
   "cell_type": "markdown",
   "metadata": {},
   "source": [
    "-- _Mi történik az alábbi szekcióban?_ --"
   ]
  },
  {
   "cell_type": "code",
   "execution_count": 336,
   "metadata": {},
   "outputs": [],
   "source": [
    "max_spending = stat['daily_total'].max()\n",
    "# A max_spending változóba eltároljuk az egy napon elköltött maximális összeget."
   ]
  },
  {
   "cell_type": "markdown",
   "metadata": {},
   "source": [
    "-- _Számold ki újra a day\\_of\\_week változót a stat dataframeben!_ --"
   ]
  },
  {
   "cell_type": "code",
   "execution_count": 337,
   "metadata": {
    "collapsed": true
   },
   "outputs": [],
   "source": [
    "stat['day_of_week'] = (stat['daynum'] + 3) % 7"
   ]
  },
  {
   "cell_type": "markdown",
   "metadata": {},
   "source": [
    "-- \n",
    "* _Hozz létre egy új változót (daily_stat), ami tartalmazza a hét napjait (day_of_week) és az adott napra jellemző költés átlagát!_ \n",
    "* _Nevezd át az új változó oszlopait a következőkre: day_of_week, daily_avg!_\n",
    "\n",
    "--"
   ]
  },
  {
   "cell_type": "code",
   "execution_count": 338,
   "metadata": {},
   "outputs": [
    {
     "data": {
      "text/html": [
       "<div>\n",
       "<style scoped>\n",
       "    .dataframe tbody tr th:only-of-type {\n",
       "        vertical-align: middle;\n",
       "    }\n",
       "\n",
       "    .dataframe tbody tr th {\n",
       "        vertical-align: top;\n",
       "    }\n",
       "\n",
       "    .dataframe thead th {\n",
       "        text-align: right;\n",
       "    }\n",
       "</style>\n",
       "<table border=\"1\" class=\"dataframe\">\n",
       "  <thead>\n",
       "    <tr style=\"text-align: right;\">\n",
       "      <th></th>\n",
       "      <th>day_of_week</th>\n",
       "      <th>daily_avg</th>\n",
       "    </tr>\n",
       "  </thead>\n",
       "  <tbody>\n",
       "    <tr>\n",
       "      <th>0</th>\n",
       "      <td>0</td>\n",
       "      <td>49710.339841</td>\n",
       "    </tr>\n",
       "    <tr>\n",
       "      <th>1</th>\n",
       "      <td>1</td>\n",
       "      <td>51551.804921</td>\n",
       "    </tr>\n",
       "    <tr>\n",
       "      <th>2</th>\n",
       "      <td>2</td>\n",
       "      <td>54892.306508</td>\n",
       "    </tr>\n",
       "    <tr>\n",
       "      <th>3</th>\n",
       "      <td>3</td>\n",
       "      <td>73857.576406</td>\n",
       "    </tr>\n",
       "    <tr>\n",
       "      <th>4</th>\n",
       "      <td>4</td>\n",
       "      <td>82713.310313</td>\n",
       "    </tr>\n",
       "    <tr>\n",
       "      <th>5</th>\n",
       "      <td>5</td>\n",
       "      <td>75757.999048</td>\n",
       "    </tr>\n",
       "    <tr>\n",
       "      <th>6</th>\n",
       "      <td>6</td>\n",
       "      <td>34342.388750</td>\n",
       "    </tr>\n",
       "  </tbody>\n",
       "</table>\n",
       "</div>"
      ],
      "text/plain": [
       "   day_of_week     daily_avg\n",
       "0            0  49710.339841\n",
       "1            1  51551.804921\n",
       "2            2  54892.306508\n",
       "3            3  73857.576406\n",
       "4            4  82713.310313\n",
       "5            5  75757.999048\n",
       "6            6  34342.388750"
      ]
     },
     "execution_count": 338,
     "metadata": {},
     "output_type": "execute_result"
    }
   ],
   "source": [
    "#tipp: aggregálj, számolj átlagot (mean)\n",
    "daily_stat = stat.groupby(['day_of_week'], as_index=False).agg({'daily_total': 'mean'})\n",
    "daily_stat.columns = ['day_of_week', 'daily_avg']\n",
    "daily_stat"
   ]
  },
  {
   "cell_type": "markdown",
   "metadata": {},
   "source": [
    "-- _Mi történik az alábbi szekcióban?_ --"
   ]
  },
  {
   "cell_type": "code",
   "execution_count": 339,
   "metadata": {},
   "outputs": [
    {
     "data": {
      "text/html": [
       "<div>\n",
       "<style scoped>\n",
       "    .dataframe tbody tr th:only-of-type {\n",
       "        vertical-align: middle;\n",
       "    }\n",
       "\n",
       "    .dataframe tbody tr th {\n",
       "        vertical-align: top;\n",
       "    }\n",
       "\n",
       "    .dataframe thead th {\n",
       "        text-align: right;\n",
       "    }\n",
       "</style>\n",
       "<table border=\"1\" class=\"dataframe\">\n",
       "  <thead>\n",
       "    <tr style=\"text-align: right;\">\n",
       "      <th></th>\n",
       "      <th>daynum</th>\n",
       "      <th>visit_date</th>\n",
       "      <th>daily_total</th>\n",
       "      <th>day_of_week</th>\n",
       "      <th>daily_avg</th>\n",
       "    </tr>\n",
       "  </thead>\n",
       "  <tbody>\n",
       "    <tr>\n",
       "      <th>0</th>\n",
       "      <td>0</td>\n",
       "      <td>2010-04-01</td>\n",
       "      <td>102625.86</td>\n",
       "      <td>3</td>\n",
       "      <td>73857.576406</td>\n",
       "    </tr>\n",
       "    <tr>\n",
       "      <th>1</th>\n",
       "      <td>1</td>\n",
       "      <td>2010-04-02</td>\n",
       "      <td>82660.90</td>\n",
       "      <td>4</td>\n",
       "      <td>82713.310313</td>\n",
       "    </tr>\n",
       "    <tr>\n",
       "      <th>2</th>\n",
       "      <td>2</td>\n",
       "      <td>2010-04-03</td>\n",
       "      <td>78081.71</td>\n",
       "      <td>5</td>\n",
       "      <td>75757.999048</td>\n",
       "    </tr>\n",
       "    <tr>\n",
       "      <th>3</th>\n",
       "      <td>3</td>\n",
       "      <td>2010-04-04</td>\n",
       "      <td>4411.05</td>\n",
       "      <td>6</td>\n",
       "      <td>34342.388750</td>\n",
       "    </tr>\n",
       "    <tr>\n",
       "      <th>4</th>\n",
       "      <td>4</td>\n",
       "      <td>2010-04-05</td>\n",
       "      <td>38144.77</td>\n",
       "      <td>0</td>\n",
       "      <td>49710.339841</td>\n",
       "    </tr>\n",
       "  </tbody>\n",
       "</table>\n",
       "</div>"
      ],
      "text/plain": [
       "   daynum  visit_date  daily_total  day_of_week     daily_avg\n",
       "0       0  2010-04-01    102625.86            3  73857.576406\n",
       "1       1  2010-04-02     82660.90            4  82713.310313\n",
       "2       2  2010-04-03     78081.71            5  75757.999048\n",
       "3       3  2010-04-04      4411.05            6  34342.388750\n",
       "4       4  2010-04-05     38144.77            0  49710.339841"
      ]
     },
     "execution_count": 339,
     "metadata": {},
     "output_type": "execute_result"
    }
   ],
   "source": [
    "merged_df = stat.merge(daily_stat,on='day_of_week',how='left')\n",
    "merged_df.head()\n",
    "# A stat DataFrame soraihoz illesztjük a daily_stat DataFrame azon sorait, ahol a day_of_week oszlop értéke megegyezik."
   ]
  },
  {
   "cell_type": "markdown",
   "metadata": {},
   "source": [
    "-- _Számíts új oszlopot (deviation), ami a napi összes költés és a napi átlag hányadosát tartalmazza!_ --"
   ]
  },
  {
   "cell_type": "code",
   "execution_count": 340,
   "metadata": {
    "collapsed": true
   },
   "outputs": [],
   "source": [
    "merged_df['deviation'] = merged_df['daily_total'] / merged_df['daily_avg']"
   ]
  },
  {
   "cell_type": "code",
   "execution_count": 341,
   "metadata": {},
   "outputs": [
    {
     "data": {
      "text/html": [
       "<div>\n",
       "<style scoped>\n",
       "    .dataframe tbody tr th:only-of-type {\n",
       "        vertical-align: middle;\n",
       "    }\n",
       "\n",
       "    .dataframe tbody tr th {\n",
       "        vertical-align: top;\n",
       "    }\n",
       "\n",
       "    .dataframe thead th {\n",
       "        text-align: right;\n",
       "    }\n",
       "</style>\n",
       "<table border=\"1\" class=\"dataframe\">\n",
       "  <thead>\n",
       "    <tr style=\"text-align: right;\">\n",
       "      <th></th>\n",
       "      <th>daynum</th>\n",
       "      <th>visit_date</th>\n",
       "      <th>daily_total</th>\n",
       "      <th>day_of_week</th>\n",
       "      <th>daily_avg</th>\n",
       "      <th>deviation</th>\n",
       "    </tr>\n",
       "  </thead>\n",
       "  <tbody>\n",
       "    <tr>\n",
       "      <th>3</th>\n",
       "      <td>3</td>\n",
       "      <td>2010-04-04</td>\n",
       "      <td>4411.05</td>\n",
       "      <td>6</td>\n",
       "      <td>34342.388750</td>\n",
       "      <td>0.128443</td>\n",
       "    </tr>\n",
       "    <tr>\n",
       "      <th>387</th>\n",
       "      <td>388</td>\n",
       "      <td>2011-04-24</td>\n",
       "      <td>5278.59</td>\n",
       "      <td>6</td>\n",
       "      <td>34342.388750</td>\n",
       "      <td>0.153705</td>\n",
       "    </tr>\n",
       "    <tr>\n",
       "      <th>268</th>\n",
       "      <td>269</td>\n",
       "      <td>2010-12-26</td>\n",
       "      <td>9175.91</td>\n",
       "      <td>6</td>\n",
       "      <td>34342.388750</td>\n",
       "      <td>0.267189</td>\n",
       "    </tr>\n",
       "    <tr>\n",
       "      <th>274</th>\n",
       "      <td>275</td>\n",
       "      <td>2011-01-01</td>\n",
       "      <td>20511.14</td>\n",
       "      <td>5</td>\n",
       "      <td>75757.999048</td>\n",
       "      <td>0.270746</td>\n",
       "    </tr>\n",
       "    <tr>\n",
       "      <th>269</th>\n",
       "      <td>270</td>\n",
       "      <td>2010-12-27</td>\n",
       "      <td>28588.18</td>\n",
       "      <td>0</td>\n",
       "      <td>49710.339841</td>\n",
       "      <td>0.575095</td>\n",
       "    </tr>\n",
       "    <tr>\n",
       "      <th>...</th>\n",
       "      <td>...</td>\n",
       "      <td>...</td>\n",
       "      <td>...</td>\n",
       "      <td>...</td>\n",
       "      <td>...</td>\n",
       "      <td>...</td>\n",
       "    </tr>\n",
       "    <tr>\n",
       "      <th>258</th>\n",
       "      <td>258</td>\n",
       "      <td>2010-12-15</td>\n",
       "      <td>80478.58</td>\n",
       "      <td>2</td>\n",
       "      <td>54892.306508</td>\n",
       "      <td>1.466118</td>\n",
       "    </tr>\n",
       "    <tr>\n",
       "      <th>266</th>\n",
       "      <td>266</td>\n",
       "      <td>2010-12-23</td>\n",
       "      <td>116126.64</td>\n",
       "      <td>3</td>\n",
       "      <td>73857.576406</td>\n",
       "      <td>1.572305</td>\n",
       "    </tr>\n",
       "    <tr>\n",
       "      <th>263</th>\n",
       "      <td>263</td>\n",
       "      <td>2010-12-20</td>\n",
       "      <td>95236.41</td>\n",
       "      <td>0</td>\n",
       "      <td>49710.339841</td>\n",
       "      <td>1.915827</td>\n",
       "    </tr>\n",
       "    <tr>\n",
       "      <th>264</th>\n",
       "      <td>264</td>\n",
       "      <td>2010-12-21</td>\n",
       "      <td>99082.84</td>\n",
       "      <td>1</td>\n",
       "      <td>51551.804921</td>\n",
       "      <td>1.922005</td>\n",
       "    </tr>\n",
       "    <tr>\n",
       "      <th>265</th>\n",
       "      <td>265</td>\n",
       "      <td>2010-12-22</td>\n",
       "      <td>119242.07</td>\n",
       "      <td>2</td>\n",
       "      <td>54892.306508</td>\n",
       "      <td>2.172291</td>\n",
       "    </tr>\n",
       "  </tbody>\n",
       "</table>\n",
       "<p>444 rows × 6 columns</p>\n",
       "</div>"
      ],
      "text/plain": [
       "     daynum  visit_date  daily_total  day_of_week     daily_avg  deviation\n",
       "3         3  2010-04-04      4411.05            6  34342.388750   0.128443\n",
       "387     388  2011-04-24      5278.59            6  34342.388750   0.153705\n",
       "268     269  2010-12-26      9175.91            6  34342.388750   0.267189\n",
       "274     275  2011-01-01     20511.14            5  75757.999048   0.270746\n",
       "269     270  2010-12-27     28588.18            0  49710.339841   0.575095\n",
       "..      ...         ...          ...          ...           ...        ...\n",
       "258     258  2010-12-15     80478.58            2  54892.306508   1.466118\n",
       "266     266  2010-12-23    116126.64            3  73857.576406   1.572305\n",
       "263     263  2010-12-20     95236.41            0  49710.339841   1.915827\n",
       "264     264  2010-12-21     99082.84            1  51551.804921   1.922005\n",
       "265     265  2010-12-22    119242.07            2  54892.306508   2.172291\n",
       "\n",
       "[444 rows x 6 columns]"
      ]
     },
     "execution_count": 341,
     "metadata": {},
     "output_type": "execute_result"
    }
   ],
   "source": [
    "merged_df.sort_values('deviation')"
   ]
  },
  {
   "cell_type": "markdown",
   "metadata": {},
   "source": [
    "## Eredmények kiértékelése"
   ]
  },
  {
   "cell_type": "markdown",
   "metadata": {},
   "source": [
    "-- _Futtasd le a maradék programkódot és gondold végig, hogy milyen események befolyásolhatták a költési kedv kiugró változásait! Írj le minden érdekességet, amit észreveszel!_ -- \n",
    "#tipp: az egész világháló a rendelkezésedre áll"
   ]
  },
  {
   "cell_type": "code",
   "execution_count": 342,
   "metadata": {
    "collapsed": true
   },
   "outputs": [],
   "source": [
    "import calendar\n",
    "from dateutil.parser import parse"
   ]
  },
  {
   "cell_type": "code",
   "execution_count": 343,
   "metadata": {
    "collapsed": true
   },
   "outputs": [],
   "source": [
    "def get_week_day(x):\n",
    "    return calendar.day_name[parse(x).weekday()]"
   ]
  },
  {
   "cell_type": "code",
   "execution_count": 344,
   "metadata": {
    "collapsed": true
   },
   "outputs": [],
   "source": [
    "merged_df['day_name'] = merged_df['visit_date'].apply(get_week_day)"
   ]
  },
  {
   "cell_type": "code",
   "execution_count": 345,
   "metadata": {},
   "outputs": [
    {
     "data": {
      "text/html": [
       "<div>\n",
       "<style scoped>\n",
       "    .dataframe tbody tr th:only-of-type {\n",
       "        vertical-align: middle;\n",
       "    }\n",
       "\n",
       "    .dataframe tbody tr th {\n",
       "        vertical-align: top;\n",
       "    }\n",
       "\n",
       "    .dataframe thead th {\n",
       "        text-align: right;\n",
       "    }\n",
       "</style>\n",
       "<table border=\"1\" class=\"dataframe\">\n",
       "  <thead>\n",
       "    <tr style=\"text-align: right;\">\n",
       "      <th></th>\n",
       "      <th>daynum</th>\n",
       "      <th>visit_date</th>\n",
       "      <th>daily_total</th>\n",
       "      <th>day_of_week</th>\n",
       "      <th>daily_avg</th>\n",
       "      <th>deviation</th>\n",
       "      <th>day_name</th>\n",
       "    </tr>\n",
       "  </thead>\n",
       "  <tbody>\n",
       "    <tr>\n",
       "      <th>3</th>\n",
       "      <td>3</td>\n",
       "      <td>2010-04-04</td>\n",
       "      <td>4411.05</td>\n",
       "      <td>6</td>\n",
       "      <td>34342.388750</td>\n",
       "      <td>0.128443</td>\n",
       "      <td>Sunday</td>\n",
       "    </tr>\n",
       "    <tr>\n",
       "      <th>387</th>\n",
       "      <td>388</td>\n",
       "      <td>2011-04-24</td>\n",
       "      <td>5278.59</td>\n",
       "      <td>6</td>\n",
       "      <td>34342.388750</td>\n",
       "      <td>0.153705</td>\n",
       "      <td>Sunday</td>\n",
       "    </tr>\n",
       "    <tr>\n",
       "      <th>268</th>\n",
       "      <td>269</td>\n",
       "      <td>2010-12-26</td>\n",
       "      <td>9175.91</td>\n",
       "      <td>6</td>\n",
       "      <td>34342.388750</td>\n",
       "      <td>0.267189</td>\n",
       "      <td>Sunday</td>\n",
       "    </tr>\n",
       "    <tr>\n",
       "      <th>274</th>\n",
       "      <td>275</td>\n",
       "      <td>2011-01-01</td>\n",
       "      <td>20511.14</td>\n",
       "      <td>5</td>\n",
       "      <td>75757.999048</td>\n",
       "      <td>0.270746</td>\n",
       "      <td>Saturday</td>\n",
       "    </tr>\n",
       "    <tr>\n",
       "      <th>269</th>\n",
       "      <td>270</td>\n",
       "      <td>2010-12-27</td>\n",
       "      <td>28588.18</td>\n",
       "      <td>0</td>\n",
       "      <td>49710.339841</td>\n",
       "      <td>0.575095</td>\n",
       "      <td>Monday</td>\n",
       "    </tr>\n",
       "    <tr>\n",
       "      <th>...</th>\n",
       "      <td>...</td>\n",
       "      <td>...</td>\n",
       "      <td>...</td>\n",
       "      <td>...</td>\n",
       "      <td>...</td>\n",
       "      <td>...</td>\n",
       "      <td>...</td>\n",
       "    </tr>\n",
       "    <tr>\n",
       "      <th>258</th>\n",
       "      <td>258</td>\n",
       "      <td>2010-12-15</td>\n",
       "      <td>80478.58</td>\n",
       "      <td>2</td>\n",
       "      <td>54892.306508</td>\n",
       "      <td>1.466118</td>\n",
       "      <td>Wednesday</td>\n",
       "    </tr>\n",
       "    <tr>\n",
       "      <th>266</th>\n",
       "      <td>266</td>\n",
       "      <td>2010-12-23</td>\n",
       "      <td>116126.64</td>\n",
       "      <td>3</td>\n",
       "      <td>73857.576406</td>\n",
       "      <td>1.572305</td>\n",
       "      <td>Thursday</td>\n",
       "    </tr>\n",
       "    <tr>\n",
       "      <th>263</th>\n",
       "      <td>263</td>\n",
       "      <td>2010-12-20</td>\n",
       "      <td>95236.41</td>\n",
       "      <td>0</td>\n",
       "      <td>49710.339841</td>\n",
       "      <td>1.915827</td>\n",
       "      <td>Monday</td>\n",
       "    </tr>\n",
       "    <tr>\n",
       "      <th>264</th>\n",
       "      <td>264</td>\n",
       "      <td>2010-12-21</td>\n",
       "      <td>99082.84</td>\n",
       "      <td>1</td>\n",
       "      <td>51551.804921</td>\n",
       "      <td>1.922005</td>\n",
       "      <td>Tuesday</td>\n",
       "    </tr>\n",
       "    <tr>\n",
       "      <th>265</th>\n",
       "      <td>265</td>\n",
       "      <td>2010-12-22</td>\n",
       "      <td>119242.07</td>\n",
       "      <td>2</td>\n",
       "      <td>54892.306508</td>\n",
       "      <td>2.172291</td>\n",
       "      <td>Wednesday</td>\n",
       "    </tr>\n",
       "  </tbody>\n",
       "</table>\n",
       "<p>444 rows × 7 columns</p>\n",
       "</div>"
      ],
      "text/plain": [
       "     daynum  visit_date  daily_total  day_of_week     daily_avg  deviation  \\\n",
       "3         3  2010-04-04      4411.05            6  34342.388750   0.128443   \n",
       "387     388  2011-04-24      5278.59            6  34342.388750   0.153705   \n",
       "268     269  2010-12-26      9175.91            6  34342.388750   0.267189   \n",
       "274     275  2011-01-01     20511.14            5  75757.999048   0.270746   \n",
       "269     270  2010-12-27     28588.18            0  49710.339841   0.575095   \n",
       "..      ...         ...          ...          ...           ...        ...   \n",
       "258     258  2010-12-15     80478.58            2  54892.306508   1.466118   \n",
       "266     266  2010-12-23    116126.64            3  73857.576406   1.572305   \n",
       "263     263  2010-12-20     95236.41            0  49710.339841   1.915827   \n",
       "264     264  2010-12-21     99082.84            1  51551.804921   1.922005   \n",
       "265     265  2010-12-22    119242.07            2  54892.306508   2.172291   \n",
       "\n",
       "      day_name  \n",
       "3       Sunday  \n",
       "387     Sunday  \n",
       "268     Sunday  \n",
       "274   Saturday  \n",
       "269     Monday  \n",
       "..         ...  \n",
       "258  Wednesday  \n",
       "266   Thursday  \n",
       "263     Monday  \n",
       "264    Tuesday  \n",
       "265  Wednesday  \n",
       "\n",
       "[444 rows x 7 columns]"
      ]
     },
     "execution_count": 345,
     "metadata": {},
     "output_type": "execute_result"
    }
   ],
   "source": [
    "merged_df.sort_values('deviation')"
   ]
  },
  {
   "cell_type": "code",
   "execution_count": 346,
   "metadata": {},
   "outputs": [
    {
     "data": {
      "text/html": [
       "<div>\n",
       "<style scoped>\n",
       "    .dataframe tbody tr th:only-of-type {\n",
       "        vertical-align: middle;\n",
       "    }\n",
       "\n",
       "    .dataframe tbody tr th {\n",
       "        vertical-align: top;\n",
       "    }\n",
       "\n",
       "    .dataframe thead th {\n",
       "        text-align: right;\n",
       "    }\n",
       "</style>\n",
       "<table border=\"1\" class=\"dataframe\">\n",
       "  <thead>\n",
       "    <tr style=\"text-align: right;\">\n",
       "      <th></th>\n",
       "      <th>customer_id</th>\n",
       "      <th>visit_date</th>\n",
       "      <th>visit_spend</th>\n",
       "      <th>daynum</th>\n",
       "      <th>day_of_week</th>\n",
       "    </tr>\n",
       "  </thead>\n",
       "  <tbody>\n",
       "    <tr>\n",
       "      <th>0</th>\n",
       "      <td>2</td>\n",
       "      <td>2010-04-01</td>\n",
       "      <td>5.97</td>\n",
       "      <td>0</td>\n",
       "      <td>3</td>\n",
       "    </tr>\n",
       "    <tr>\n",
       "      <th>1</th>\n",
       "      <td>2</td>\n",
       "      <td>2010-04-06</td>\n",
       "      <td>12.71</td>\n",
       "      <td>5</td>\n",
       "      <td>1</td>\n",
       "    </tr>\n",
       "    <tr>\n",
       "      <th>2</th>\n",
       "      <td>2</td>\n",
       "      <td>2010-04-07</td>\n",
       "      <td>34.52</td>\n",
       "      <td>6</td>\n",
       "      <td>2</td>\n",
       "    </tr>\n",
       "    <tr>\n",
       "      <th>3</th>\n",
       "      <td>2</td>\n",
       "      <td>2010-04-12</td>\n",
       "      <td>7.89</td>\n",
       "      <td>11</td>\n",
       "      <td>0</td>\n",
       "    </tr>\n",
       "    <tr>\n",
       "      <th>4</th>\n",
       "      <td>2</td>\n",
       "      <td>2010-04-14</td>\n",
       "      <td>17.17</td>\n",
       "      <td>13</td>\n",
       "      <td>2</td>\n",
       "    </tr>\n",
       "  </tbody>\n",
       "</table>\n",
       "</div>"
      ],
      "text/plain": [
       "   customer_id  visit_date  visit_spend  daynum  day_of_week\n",
       "0            2  2010-04-01         5.97       0            3\n",
       "1            2  2010-04-06        12.71       5            1\n",
       "2            2  2010-04-07        34.52       6            2\n",
       "3            2  2010-04-12         7.89      11            0\n",
       "4            2  2010-04-14        17.17      13            2"
      ]
     },
     "execution_count": 346,
     "metadata": {},
     "output_type": "execute_result"
    }
   ],
   "source": [
    "df.head()"
   ]
  },
  {
   "cell_type": "markdown",
   "metadata": {},
   "source": [
    "Látható, hogy az átlagtól pozitív irányba történő legnagyobb eltérések a karácsony előtti napokban vannak. Ilyenkor volt, hogy több, mint 2-szer annyit költöttek, mint az átlag. Ez az ünnepekre való készülésnek tudható be, olyan országról van szó, ahol ünneplik a karácsonyt.\n",
    "\n",
    "Az átlagtól negatív irányba való legnagyobb eltérések pedig karácsony után két ünnep között, újévkor és húsvétkor (2010.04.04.) vannak. Ez megint egy keresztény országra utal.\n",
    "\n",
    "A 'visit_spend'-ben szereplő értékek alapján valamilyen erős valutát (euró, dollár, font, frank stb.) használó országról van szó.\n",
    "\n",
    "Korábbról tudjuk, hogy vasárnap nagyon keveset költenek a többi naphoz képest, a boltok többsége valószínűleg zárva tart ilyenkor.\n",
    "\n",
    "Németország."
   ]
  }
 ],
 "metadata": {
  "kernelspec": {
   "display_name": "Python 3.6",
   "language": "python",
   "name": "python3"
  },
  "language_info": {
   "codemirror_mode": {
    "name": "ipython",
    "version": 3
   },
   "file_extension": ".py",
   "mimetype": "text/x-python",
   "name": "python",
   "nbconvert_exporter": "python",
   "pygments_lexer": "ipython3",
   "version": "3.6.5"
  }
 },
 "nbformat": 4,
 "nbformat_minor": 4
}
