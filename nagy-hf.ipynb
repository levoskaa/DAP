{
 "cells": [
  {
   "cell_type": "code",
   "execution_count": 1,
   "metadata": {},
   "outputs": [],
   "source": [
    "import pandas as pd\n",
    "import numpy as np\n",
    "import matplotlib.pyplot as plt\n",
    "from sklearn.ensemble import GradientBoostingClassifier\n",
    "from sklearn import preprocessing\n",
    "from sklearn.metrics import roc_auc_score\n",
    "from sklearn.model_selection import train_test_split\n",
    "from sklearn.model_selection import GridSearchCV"
   ]
  },
  {
   "cell_type": "code",
   "execution_count": 2,
   "metadata": {},
   "outputs": [],
   "source": [
    "pd.set_option('display.max_colwidth', 300)\n",
    "# pd.set_option('display.max_rows', 100)"
   ]
  },
  {
   "cell_type": "markdown",
   "metadata": {},
   "source": [
    "## Adatok beolvasása"
   ]
  },
  {
   "cell_type": "code",
   "execution_count": 3,
   "metadata": {},
   "outputs": [
    {
     "data": {
      "text/html": [
       "<div>\n",
       "<style scoped>\n",
       "    .dataframe tbody tr th:only-of-type {\n",
       "        vertical-align: middle;\n",
       "    }\n",
       "\n",
       "    .dataframe tbody tr th {\n",
       "        vertical-align: top;\n",
       "    }\n",
       "\n",
       "    .dataframe thead th {\n",
       "        text-align: right;\n",
       "    }\n",
       "</style>\n",
       "<table border=\"1\" class=\"dataframe\">\n",
       "  <thead>\n",
       "    <tr style=\"text-align: right;\">\n",
       "      <th></th>\n",
       "      <th>ID</th>\n",
       "      <th>DEFAULT</th>\n",
       "      <th>SECTOR</th>\n",
       "      <th>SUBSECTOR</th>\n",
       "      <th>O1000</th>\n",
       "      <th>O1200</th>\n",
       "      <th>O6000</th>\n",
       "      <th>P1000</th>\n",
       "      <th>P3000</th>\n",
       "      <th>P5000</th>\n",
       "      <th>...</th>\n",
       "      <th>UK</th>\n",
       "      <th>PH</th>\n",
       "      <th>KKV</th>\n",
       "      <th>EXPOSURE</th>\n",
       "      <th>SIZE_CAT</th>\n",
       "      <th>EXPSHARE</th>\n",
       "      <th>DUR</th>\n",
       "      <th>ENTITY</th>\n",
       "      <th>MONTH</th>\n",
       "      <th>DAY</th>\n",
       "    </tr>\n",
       "  </thead>\n",
       "  <tbody>\n",
       "    <tr>\n",
       "      <th>0</th>\n",
       "      <td>1</td>\n",
       "      <td>0</td>\n",
       "      <td>BI</td>\n",
       "      <td>I</td>\n",
       "      <td>603051.0</td>\n",
       "      <td>0.000</td>\n",
       "      <td>18633.0</td>\n",
       "      <td>16993.0</td>\n",
       "      <td>18483.0</td>\n",
       "      <td>19377.0</td>\n",
       "      <td>...</td>\n",
       "      <td>0.0000</td>\n",
       "      <td>2.0</td>\n",
       "      <td>1.0</td>\n",
       "      <td>2467997.0</td>\n",
       "      <td>kat4</td>\n",
       "      <td>0.0</td>\n",
       "      <td>4.9</td>\n",
       "      <td>entity1</td>\n",
       "      <td>6</td>\n",
       "      <td>30</td>\n",
       "    </tr>\n",
       "    <tr>\n",
       "      <th>1</th>\n",
       "      <td>2</td>\n",
       "      <td>0</td>\n",
       "      <td>BE</td>\n",
       "      <td>D</td>\n",
       "      <td>310318.0</td>\n",
       "      <td>0.000</td>\n",
       "      <td>4255.0</td>\n",
       "      <td>14485.0</td>\n",
       "      <td>17362.0</td>\n",
       "      <td>14778.0</td>\n",
       "      <td>...</td>\n",
       "      <td>0.0034</td>\n",
       "      <td>2.0</td>\n",
       "      <td>1.0</td>\n",
       "      <td>1327827.0</td>\n",
       "      <td>kat3</td>\n",
       "      <td>0.0</td>\n",
       "      <td>1.0</td>\n",
       "      <td>entity2</td>\n",
       "      <td>11</td>\n",
       "      <td>8</td>\n",
       "    </tr>\n",
       "    <tr>\n",
       "      <th>2</th>\n",
       "      <td>3</td>\n",
       "      <td>0</td>\n",
       "      <td>BI</td>\n",
       "      <td>K</td>\n",
       "      <td>19711743.0</td>\n",
       "      <td>4566341.638</td>\n",
       "      <td>41305.0</td>\n",
       "      <td>290507.0</td>\n",
       "      <td>205264.0</td>\n",
       "      <td>172007.0</td>\n",
       "      <td>...</td>\n",
       "      <td>0.0000</td>\n",
       "      <td>2.0</td>\n",
       "      <td>2.0</td>\n",
       "      <td>0.0</td>\n",
       "      <td>kat4</td>\n",
       "      <td>22.2</td>\n",
       "      <td>3.7</td>\n",
       "      <td>entity3</td>\n",
       "      <td>4</td>\n",
       "      <td>7</td>\n",
       "    </tr>\n",
       "    <tr>\n",
       "      <th>3</th>\n",
       "      <td>4</td>\n",
       "      <td>0</td>\n",
       "      <td>BJ</td>\n",
       "      <td>G</td>\n",
       "      <td>165567.0</td>\n",
       "      <td>0.000</td>\n",
       "      <td>5542.0</td>\n",
       "      <td>9638.0</td>\n",
       "      <td>8899.0</td>\n",
       "      <td>6720.0</td>\n",
       "      <td>...</td>\n",
       "      <td>3.9114</td>\n",
       "      <td>2.0</td>\n",
       "      <td>1.0</td>\n",
       "      <td>23902288.0</td>\n",
       "      <td>kat3</td>\n",
       "      <td>0.0</td>\n",
       "      <td>0.0</td>\n",
       "      <td>entity3</td>\n",
       "      <td>3</td>\n",
       "      <td>2</td>\n",
       "    </tr>\n",
       "    <tr>\n",
       "      <th>4</th>\n",
       "      <td>5</td>\n",
       "      <td>0</td>\n",
       "      <td>BH</td>\n",
       "      <td>C</td>\n",
       "      <td>3212773.0</td>\n",
       "      <td>2987.000</td>\n",
       "      <td>53149.0</td>\n",
       "      <td>22350.0</td>\n",
       "      <td>-23309.0</td>\n",
       "      <td>-24611.0</td>\n",
       "      <td>...</td>\n",
       "      <td>NaN</td>\n",
       "      <td>NaN</td>\n",
       "      <td>NaN</td>\n",
       "      <td>NaN</td>\n",
       "      <td>kat6</td>\n",
       "      <td>0.1</td>\n",
       "      <td>NaN</td>\n",
       "      <td>entity6</td>\n",
       "      <td>3</td>\n",
       "      <td>31</td>\n",
       "    </tr>\n",
       "  </tbody>\n",
       "</table>\n",
       "<p>5 rows × 39 columns</p>\n",
       "</div>"
      ],
      "text/plain": [
       "   ID  DEFAULT SECTOR SUBSECTOR       O1000        O1200    O6000     P1000  \\\n",
       "0   1        0     BI         I    603051.0        0.000  18633.0   16993.0   \n",
       "1   2        0     BE         D    310318.0        0.000   4255.0   14485.0   \n",
       "2   3        0     BI         K  19711743.0  4566341.638  41305.0  290507.0   \n",
       "3   4        0     BJ         G    165567.0        0.000   5542.0    9638.0   \n",
       "4   5        0     BH         C   3212773.0     2987.000  53149.0   22350.0   \n",
       "\n",
       "      P3000     P5000  ...      UK   PH  KKV    EXPOSURE  SIZE_CAT  EXPSHARE  \\\n",
       "0   18483.0   19377.0  ...  0.0000  2.0  1.0   2467997.0      kat4       0.0   \n",
       "1   17362.0   14778.0  ...  0.0034  2.0  1.0   1327827.0      kat3       0.0   \n",
       "2  205264.0  172007.0  ...  0.0000  2.0  2.0         0.0      kat4      22.2   \n",
       "3    8899.0    6720.0  ...  3.9114  2.0  1.0  23902288.0      kat3       0.0   \n",
       "4  -23309.0  -24611.0  ...     NaN  NaN  NaN         NaN      kat6       0.1   \n",
       "\n",
       "   DUR   ENTITY  MONTH  DAY  \n",
       "0  4.9  entity1      6   30  \n",
       "1  1.0  entity2     11    8  \n",
       "2  3.7  entity3      4    7  \n",
       "3  0.0  entity3      3    2  \n",
       "4  NaN  entity6      3   31  \n",
       "\n",
       "[5 rows x 39 columns]"
      ]
     },
     "execution_count": 3,
     "metadata": {},
     "output_type": "execute_result"
    }
   ],
   "source": [
    "df_public_train = pd.read_csv('./public_train.csv')\n",
    "df_public_train.head()"
   ]
  },
  {
   "cell_type": "code",
   "execution_count": 4,
   "metadata": {},
   "outputs": [
    {
     "data": {
      "text/html": [
       "<div>\n",
       "<style scoped>\n",
       "    .dataframe tbody tr th:only-of-type {\n",
       "        vertical-align: middle;\n",
       "    }\n",
       "\n",
       "    .dataframe tbody tr th {\n",
       "        vertical-align: top;\n",
       "    }\n",
       "\n",
       "    .dataframe thead th {\n",
       "        text-align: right;\n",
       "    }\n",
       "</style>\n",
       "<table border=\"1\" class=\"dataframe\">\n",
       "  <thead>\n",
       "    <tr style=\"text-align: right;\">\n",
       "      <th></th>\n",
       "      <th>ID</th>\n",
       "      <th>SECTOR</th>\n",
       "      <th>SUBSECTOR</th>\n",
       "      <th>O1000</th>\n",
       "      <th>O1200</th>\n",
       "      <th>O6000</th>\n",
       "      <th>P1000</th>\n",
       "      <th>P3000</th>\n",
       "      <th>P5000</th>\n",
       "      <th>N1000</th>\n",
       "      <th>...</th>\n",
       "      <th>UK</th>\n",
       "      <th>PH</th>\n",
       "      <th>KKV</th>\n",
       "      <th>EXPOSURE</th>\n",
       "      <th>SIZE_CAT</th>\n",
       "      <th>EXPSHARE</th>\n",
       "      <th>DUR</th>\n",
       "      <th>ENTITY</th>\n",
       "      <th>MONTH</th>\n",
       "      <th>DAY</th>\n",
       "    </tr>\n",
       "  </thead>\n",
       "  <tbody>\n",
       "    <tr>\n",
       "      <th>0</th>\n",
       "      <td>19780</td>\n",
       "      <td>AN</td>\n",
       "      <td>D</td>\n",
       "      <td>22897.0</td>\n",
       "      <td>0.0</td>\n",
       "      <td>308.0</td>\n",
       "      <td>507.0</td>\n",
       "      <td>223.0</td>\n",
       "      <td>156.0</td>\n",
       "      <td>3042.0</td>\n",
       "      <td>...</td>\n",
       "      <td>5.1536</td>\n",
       "      <td>2.0</td>\n",
       "      <td>1.0</td>\n",
       "      <td>3.028097e+06</td>\n",
       "      <td>kat2</td>\n",
       "      <td>0.0</td>\n",
       "      <td>1.0</td>\n",
       "      <td>entity4</td>\n",
       "      <td>7</td>\n",
       "      <td>6</td>\n",
       "    </tr>\n",
       "    <tr>\n",
       "      <th>1</th>\n",
       "      <td>19781</td>\n",
       "      <td>BJ</td>\n",
       "      <td>G</td>\n",
       "      <td>27595080.0</td>\n",
       "      <td>27810555.0</td>\n",
       "      <td>60814.0</td>\n",
       "      <td>838860.0</td>\n",
       "      <td>775822.0</td>\n",
       "      <td>733274.0</td>\n",
       "      <td>5621939.0</td>\n",
       "      <td>...</td>\n",
       "      <td>1.0328</td>\n",
       "      <td>2.0</td>\n",
       "      <td>1.0</td>\n",
       "      <td>1.913730e+09</td>\n",
       "      <td>kat4</td>\n",
       "      <td>99.3</td>\n",
       "      <td>0.0</td>\n",
       "      <td>entity3</td>\n",
       "      <td>8</td>\n",
       "      <td>7</td>\n",
       "    </tr>\n",
       "    <tr>\n",
       "      <th>2</th>\n",
       "      <td>19782</td>\n",
       "      <td>AF</td>\n",
       "      <td>C</td>\n",
       "      <td>698068.0</td>\n",
       "      <td>0.0</td>\n",
       "      <td>158594.0</td>\n",
       "      <td>164975.0</td>\n",
       "      <td>158143.0</td>\n",
       "      <td>154796.0</td>\n",
       "      <td>1361694.0</td>\n",
       "      <td>...</td>\n",
       "      <td>2.5000</td>\n",
       "      <td>2.0</td>\n",
       "      <td>1.0</td>\n",
       "      <td>2.253064e+06</td>\n",
       "      <td>kat5</td>\n",
       "      <td>0.0</td>\n",
       "      <td>4.8</td>\n",
       "      <td>entity8</td>\n",
       "      <td>1</td>\n",
       "      <td>2</td>\n",
       "    </tr>\n",
       "    <tr>\n",
       "      <th>3</th>\n",
       "      <td>19783</td>\n",
       "      <td>CA</td>\n",
       "      <td>D</td>\n",
       "      <td>122553.0</td>\n",
       "      <td>0.0</td>\n",
       "      <td>10627.0</td>\n",
       "      <td>26570.0</td>\n",
       "      <td>21999.0</td>\n",
       "      <td>19905.0</td>\n",
       "      <td>120633.0</td>\n",
       "      <td>...</td>\n",
       "      <td>NaN</td>\n",
       "      <td>NaN</td>\n",
       "      <td>NaN</td>\n",
       "      <td>NaN</td>\n",
       "      <td>kat3</td>\n",
       "      <td>0.0</td>\n",
       "      <td>3.0</td>\n",
       "      <td>entity11</td>\n",
       "      <td>1</td>\n",
       "      <td>3</td>\n",
       "    </tr>\n",
       "    <tr>\n",
       "      <th>4</th>\n",
       "      <td>19784</td>\n",
       "      <td>CI</td>\n",
       "      <td>C</td>\n",
       "      <td>62371.0</td>\n",
       "      <td>10884.0</td>\n",
       "      <td>24387.0</td>\n",
       "      <td>-9284.0</td>\n",
       "      <td>-13734.0</td>\n",
       "      <td>-13505.0</td>\n",
       "      <td>-10187.0</td>\n",
       "      <td>...</td>\n",
       "      <td>3.9133</td>\n",
       "      <td>2.0</td>\n",
       "      <td>1.0</td>\n",
       "      <td>1.263284e+07</td>\n",
       "      <td>kat2</td>\n",
       "      <td>17.6</td>\n",
       "      <td>4.2</td>\n",
       "      <td>entity12</td>\n",
       "      <td>1</td>\n",
       "      <td>3</td>\n",
       "    </tr>\n",
       "  </tbody>\n",
       "</table>\n",
       "<p>5 rows × 38 columns</p>\n",
       "</div>"
      ],
      "text/plain": [
       "      ID SECTOR SUBSECTOR       O1000       O1200     O6000     P1000  \\\n",
       "0  19780     AN         D     22897.0         0.0     308.0     507.0   \n",
       "1  19781     BJ         G  27595080.0  27810555.0   60814.0  838860.0   \n",
       "2  19782     AF         C    698068.0         0.0  158594.0  164975.0   \n",
       "3  19783     CA         D    122553.0         0.0   10627.0   26570.0   \n",
       "4  19784     CI         C     62371.0     10884.0   24387.0   -9284.0   \n",
       "\n",
       "      P3000     P5000      N1000  ...      UK   PH  KKV      EXPOSURE  \\\n",
       "0     223.0     156.0     3042.0  ...  5.1536  2.0  1.0  3.028097e+06   \n",
       "1  775822.0  733274.0  5621939.0  ...  1.0328  2.0  1.0  1.913730e+09   \n",
       "2  158143.0  154796.0  1361694.0  ...  2.5000  2.0  1.0  2.253064e+06   \n",
       "3   21999.0   19905.0   120633.0  ...     NaN  NaN  NaN           NaN   \n",
       "4  -13734.0  -13505.0   -10187.0  ...  3.9133  2.0  1.0  1.263284e+07   \n",
       "\n",
       "   SIZE_CAT  EXPSHARE  DUR    ENTITY  MONTH  DAY  \n",
       "0      kat2       0.0  1.0   entity4      7    6  \n",
       "1      kat4      99.3  0.0   entity3      8    7  \n",
       "2      kat5       0.0  4.8   entity8      1    2  \n",
       "3      kat3       0.0  3.0  entity11      1    3  \n",
       "4      kat2      17.6  4.2  entity12      1    3  \n",
       "\n",
       "[5 rows x 38 columns]"
      ]
     },
     "execution_count": 4,
     "metadata": {},
     "output_type": "execute_result"
    }
   ],
   "source": [
    "df_public_test = pd.read_csv('./public_test.csv')\n",
    "df_public_test.head()"
   ]
  },
  {
   "cell_type": "code",
   "execution_count": 5,
   "metadata": {},
   "outputs": [],
   "source": [
    "df_public_train['TRAIN_OR_TEST'] = 'train'\n",
    "df_public_test['TRAIN_OR_TEST'] = 'test'\n",
    "df_orig_all = pd.concat([df_public_train, df_public_test])"
   ]
  },
  {
   "cell_type": "markdown",
   "metadata": {},
   "source": [
    "## Adatelőkészítés"
   ]
  },
  {
   "cell_type": "markdown",
   "metadata": {},
   "source": [
    "### Konstans oszlopok kiszűrése"
   ]
  },
  {
   "cell_type": "code",
   "execution_count": 6,
   "metadata": {},
   "outputs": [],
   "source": [
    "for column in df_orig_all.columns:\n",
    "    if df_orig_all[column].nunique() == 1:\n",
    "        print(column)"
   ]
  },
  {
   "cell_type": "markdown",
   "metadata": {},
   "source": [
    "### Hiányzó értékek"
   ]
  },
  {
   "cell_type": "code",
   "execution_count": 7,
   "metadata": {},
   "outputs": [
    {
     "data": {
      "text/html": [
       "<div>\n",
       "<style scoped>\n",
       "    .dataframe tbody tr th:only-of-type {\n",
       "        vertical-align: middle;\n",
       "    }\n",
       "\n",
       "    .dataframe tbody tr th {\n",
       "        vertical-align: top;\n",
       "    }\n",
       "\n",
       "    .dataframe thead th {\n",
       "        text-align: right;\n",
       "    }\n",
       "</style>\n",
       "<table border=\"1\" class=\"dataframe\">\n",
       "  <thead>\n",
       "    <tr style=\"text-align: right;\">\n",
       "      <th></th>\n",
       "      <th>ID</th>\n",
       "      <th>DEFAULT</th>\n",
       "      <th>SECTOR</th>\n",
       "      <th>SUBSECTOR</th>\n",
       "      <th>O1000</th>\n",
       "      <th>O1200</th>\n",
       "      <th>O6000</th>\n",
       "      <th>P1000</th>\n",
       "      <th>P3000</th>\n",
       "      <th>P5000</th>\n",
       "      <th>...</th>\n",
       "      <th>PH</th>\n",
       "      <th>KKV</th>\n",
       "      <th>EXPOSURE</th>\n",
       "      <th>SIZE_CAT</th>\n",
       "      <th>EXPSHARE</th>\n",
       "      <th>DUR</th>\n",
       "      <th>ENTITY</th>\n",
       "      <th>MONTH</th>\n",
       "      <th>DAY</th>\n",
       "      <th>TRAIN_OR_TEST</th>\n",
       "    </tr>\n",
       "  </thead>\n",
       "  <tbody>\n",
       "    <tr>\n",
       "      <th>count</th>\n",
       "      <td>39557.000000</td>\n",
       "      <td>19779.000000</td>\n",
       "      <td>39557</td>\n",
       "      <td>39557</td>\n",
       "      <td>3.955600e+04</td>\n",
       "      <td>3.955700e+04</td>\n",
       "      <td>3.935700e+04</td>\n",
       "      <td>3.953000e+04</td>\n",
       "      <td>3.953000e+04</td>\n",
       "      <td>3.953000e+04</td>\n",
       "      <td>...</td>\n",
       "      <td>37368.000000</td>\n",
       "      <td>37368.000000</td>\n",
       "      <td>3.667800e+04</td>\n",
       "      <td>39557</td>\n",
       "      <td>39172.000000</td>\n",
       "      <td>39131.000000</td>\n",
       "      <td>39557</td>\n",
       "      <td>39557.000000</td>\n",
       "      <td>39557.000000</td>\n",
       "      <td>39557</td>\n",
       "    </tr>\n",
       "    <tr>\n",
       "      <th>unique</th>\n",
       "      <td>NaN</td>\n",
       "      <td>NaN</td>\n",
       "      <td>80</td>\n",
       "      <td>11</td>\n",
       "      <td>NaN</td>\n",
       "      <td>NaN</td>\n",
       "      <td>NaN</td>\n",
       "      <td>NaN</td>\n",
       "      <td>NaN</td>\n",
       "      <td>NaN</td>\n",
       "      <td>...</td>\n",
       "      <td>NaN</td>\n",
       "      <td>NaN</td>\n",
       "      <td>NaN</td>\n",
       "      <td>9</td>\n",
       "      <td>NaN</td>\n",
       "      <td>NaN</td>\n",
       "      <td>170</td>\n",
       "      <td>NaN</td>\n",
       "      <td>NaN</td>\n",
       "      <td>2</td>\n",
       "    </tr>\n",
       "    <tr>\n",
       "      <th>top</th>\n",
       "      <td>NaN</td>\n",
       "      <td>NaN</td>\n",
       "      <td>BI</td>\n",
       "      <td>C</td>\n",
       "      <td>NaN</td>\n",
       "      <td>NaN</td>\n",
       "      <td>NaN</td>\n",
       "      <td>NaN</td>\n",
       "      <td>NaN</td>\n",
       "      <td>NaN</td>\n",
       "      <td>...</td>\n",
       "      <td>NaN</td>\n",
       "      <td>NaN</td>\n",
       "      <td>NaN</td>\n",
       "      <td>kat2</td>\n",
       "      <td>NaN</td>\n",
       "      <td>NaN</td>\n",
       "      <td>entity2</td>\n",
       "      <td>NaN</td>\n",
       "      <td>NaN</td>\n",
       "      <td>train</td>\n",
       "    </tr>\n",
       "    <tr>\n",
       "      <th>freq</th>\n",
       "      <td>NaN</td>\n",
       "      <td>NaN</td>\n",
       "      <td>4820</td>\n",
       "      <td>11188</td>\n",
       "      <td>NaN</td>\n",
       "      <td>NaN</td>\n",
       "      <td>NaN</td>\n",
       "      <td>NaN</td>\n",
       "      <td>NaN</td>\n",
       "      <td>NaN</td>\n",
       "      <td>...</td>\n",
       "      <td>NaN</td>\n",
       "      <td>NaN</td>\n",
       "      <td>NaN</td>\n",
       "      <td>10553</td>\n",
       "      <td>NaN</td>\n",
       "      <td>NaN</td>\n",
       "      <td>7195</td>\n",
       "      <td>NaN</td>\n",
       "      <td>NaN</td>\n",
       "      <td>19779</td>\n",
       "    </tr>\n",
       "    <tr>\n",
       "      <th>mean</th>\n",
       "      <td>19779.000000</td>\n",
       "      <td>0.093736</td>\n",
       "      <td>NaN</td>\n",
       "      <td>NaN</td>\n",
       "      <td>1.154126e+06</td>\n",
       "      <td>3.436659e+05</td>\n",
       "      <td>3.627991e+04</td>\n",
       "      <td>6.116628e+04</td>\n",
       "      <td>6.160165e+04</td>\n",
       "      <td>5.735112e+04</td>\n",
       "      <td>...</td>\n",
       "      <td>1.992132</td>\n",
       "      <td>1.041800</td>\n",
       "      <td>2.764759e+07</td>\n",
       "      <td>NaN</td>\n",
       "      <td>1.970647</td>\n",
       "      <td>3.136012</td>\n",
       "      <td>NaN</td>\n",
       "      <td>6.528023</td>\n",
       "      <td>16.298278</td>\n",
       "      <td>NaN</td>\n",
       "    </tr>\n",
       "    <tr>\n",
       "      <th>std</th>\n",
       "      <td>11419.266636</td>\n",
       "      <td>0.291468</td>\n",
       "      <td>NaN</td>\n",
       "      <td>NaN</td>\n",
       "      <td>1.829822e+07</td>\n",
       "      <td>9.379062e+06</td>\n",
       "      <td>5.714851e+05</td>\n",
       "      <td>1.246786e+06</td>\n",
       "      <td>1.346431e+06</td>\n",
       "      <td>1.284223e+06</td>\n",
       "      <td>...</td>\n",
       "      <td>0.088352</td>\n",
       "      <td>0.200136</td>\n",
       "      <td>2.751038e+08</td>\n",
       "      <td>NaN</td>\n",
       "      <td>11.418802</td>\n",
       "      <td>3.549216</td>\n",
       "      <td>NaN</td>\n",
       "      <td>3.364236</td>\n",
       "      <td>8.754621</td>\n",
       "      <td>NaN</td>\n",
       "    </tr>\n",
       "    <tr>\n",
       "      <th>min</th>\n",
       "      <td>1.000000</td>\n",
       "      <td>0.000000</td>\n",
       "      <td>NaN</td>\n",
       "      <td>NaN</td>\n",
       "      <td>0.000000e+00</td>\n",
       "      <td>-1.364620e+02</td>\n",
       "      <td>-5.110000e+03</td>\n",
       "      <td>-2.645981e+07</td>\n",
       "      <td>-2.612563e+07</td>\n",
       "      <td>-2.631799e+07</td>\n",
       "      <td>...</td>\n",
       "      <td>1.000000</td>\n",
       "      <td>1.000000</td>\n",
       "      <td>0.000000e+00</td>\n",
       "      <td>NaN</td>\n",
       "      <td>0.000000</td>\n",
       "      <td>0.000000</td>\n",
       "      <td>NaN</td>\n",
       "      <td>1.000000</td>\n",
       "      <td>1.000000</td>\n",
       "      <td>NaN</td>\n",
       "    </tr>\n",
       "    <tr>\n",
       "      <th>25%</th>\n",
       "      <td>9890.000000</td>\n",
       "      <td>0.000000</td>\n",
       "      <td>NaN</td>\n",
       "      <td>NaN</td>\n",
       "      <td>3.859975e+04</td>\n",
       "      <td>0.000000e+00</td>\n",
       "      <td>9.430000e+02</td>\n",
       "      <td>1.436000e+03</td>\n",
       "      <td>1.108250e+03</td>\n",
       "      <td>8.580000e+02</td>\n",
       "      <td>...</td>\n",
       "      <td>2.000000</td>\n",
       "      <td>1.000000</td>\n",
       "      <td>9.053130e+05</td>\n",
       "      <td>NaN</td>\n",
       "      <td>0.000000</td>\n",
       "      <td>1.000000</td>\n",
       "      <td>NaN</td>\n",
       "      <td>4.000000</td>\n",
       "      <td>9.000000</td>\n",
       "      <td>NaN</td>\n",
       "    </tr>\n",
       "    <tr>\n",
       "      <th>50%</th>\n",
       "      <td>19779.000000</td>\n",
       "      <td>0.000000</td>\n",
       "      <td>NaN</td>\n",
       "      <td>NaN</td>\n",
       "      <td>1.213215e+05</td>\n",
       "      <td>0.000000e+00</td>\n",
       "      <td>2.928000e+03</td>\n",
       "      <td>6.261500e+03</td>\n",
       "      <td>5.427000e+03</td>\n",
       "      <td>4.782000e+03</td>\n",
       "      <td>...</td>\n",
       "      <td>2.000000</td>\n",
       "      <td>1.000000</td>\n",
       "      <td>2.720018e+06</td>\n",
       "      <td>NaN</td>\n",
       "      <td>0.000000</td>\n",
       "      <td>2.300000</td>\n",
       "      <td>NaN</td>\n",
       "      <td>6.000000</td>\n",
       "      <td>16.000000</td>\n",
       "      <td>NaN</td>\n",
       "    </tr>\n",
       "    <tr>\n",
       "      <th>75%</th>\n",
       "      <td>29668.000000</td>\n",
       "      <td>0.000000</td>\n",
       "      <td>NaN</td>\n",
       "      <td>NaN</td>\n",
       "      <td>3.753110e+05</td>\n",
       "      <td>0.000000e+00</td>\n",
       "      <td>9.929000e+03</td>\n",
       "      <td>2.389400e+04</td>\n",
       "      <td>2.256250e+04</td>\n",
       "      <td>2.075200e+04</td>\n",
       "      <td>...</td>\n",
       "      <td>2.000000</td>\n",
       "      <td>1.000000</td>\n",
       "      <td>7.631045e+06</td>\n",
       "      <td>NaN</td>\n",
       "      <td>0.000000</td>\n",
       "      <td>4.900000</td>\n",
       "      <td>NaN</td>\n",
       "      <td>9.000000</td>\n",
       "      <td>24.000000</td>\n",
       "      <td>NaN</td>\n",
       "    </tr>\n",
       "    <tr>\n",
       "      <th>max</th>\n",
       "      <td>39557.000000</td>\n",
       "      <td>1.000000</td>\n",
       "      <td>NaN</td>\n",
       "      <td>NaN</td>\n",
       "      <td>2.093063e+09</td>\n",
       "      <td>1.099307e+09</td>\n",
       "      <td>6.512882e+07</td>\n",
       "      <td>1.395462e+08</td>\n",
       "      <td>1.332409e+08</td>\n",
       "      <td>1.264905e+08</td>\n",
       "      <td>...</td>\n",
       "      <td>2.000000</td>\n",
       "      <td>2.000000</td>\n",
       "      <td>2.226023e+10</td>\n",
       "      <td>NaN</td>\n",
       "      <td>100.000000</td>\n",
       "      <td>53.200000</td>\n",
       "      <td>NaN</td>\n",
       "      <td>12.000000</td>\n",
       "      <td>31.000000</td>\n",
       "      <td>NaN</td>\n",
       "    </tr>\n",
       "  </tbody>\n",
       "</table>\n",
       "<p>11 rows × 40 columns</p>\n",
       "</div>"
      ],
      "text/plain": [
       "                  ID       DEFAULT SECTOR SUBSECTOR         O1000  \\\n",
       "count   39557.000000  19779.000000  39557     39557  3.955600e+04   \n",
       "unique           NaN           NaN     80        11           NaN   \n",
       "top              NaN           NaN     BI         C           NaN   \n",
       "freq             NaN           NaN   4820     11188           NaN   \n",
       "mean    19779.000000      0.093736    NaN       NaN  1.154126e+06   \n",
       "std     11419.266636      0.291468    NaN       NaN  1.829822e+07   \n",
       "min         1.000000      0.000000    NaN       NaN  0.000000e+00   \n",
       "25%      9890.000000      0.000000    NaN       NaN  3.859975e+04   \n",
       "50%     19779.000000      0.000000    NaN       NaN  1.213215e+05   \n",
       "75%     29668.000000      0.000000    NaN       NaN  3.753110e+05   \n",
       "max     39557.000000      1.000000    NaN       NaN  2.093063e+09   \n",
       "\n",
       "               O1200         O6000         P1000         P3000         P5000  \\\n",
       "count   3.955700e+04  3.935700e+04  3.953000e+04  3.953000e+04  3.953000e+04   \n",
       "unique           NaN           NaN           NaN           NaN           NaN   \n",
       "top              NaN           NaN           NaN           NaN           NaN   \n",
       "freq             NaN           NaN           NaN           NaN           NaN   \n",
       "mean    3.436659e+05  3.627991e+04  6.116628e+04  6.160165e+04  5.735112e+04   \n",
       "std     9.379062e+06  5.714851e+05  1.246786e+06  1.346431e+06  1.284223e+06   \n",
       "min    -1.364620e+02 -5.110000e+03 -2.645981e+07 -2.612563e+07 -2.631799e+07   \n",
       "25%     0.000000e+00  9.430000e+02  1.436000e+03  1.108250e+03  8.580000e+02   \n",
       "50%     0.000000e+00  2.928000e+03  6.261500e+03  5.427000e+03  4.782000e+03   \n",
       "75%     0.000000e+00  9.929000e+03  2.389400e+04  2.256250e+04  2.075200e+04   \n",
       "max     1.099307e+09  6.512882e+07  1.395462e+08  1.332409e+08  1.264905e+08   \n",
       "\n",
       "        ...            PH           KKV      EXPOSURE  SIZE_CAT      EXPSHARE  \\\n",
       "count   ...  37368.000000  37368.000000  3.667800e+04     39557  39172.000000   \n",
       "unique  ...           NaN           NaN           NaN         9           NaN   \n",
       "top     ...           NaN           NaN           NaN      kat2           NaN   \n",
       "freq    ...           NaN           NaN           NaN     10553           NaN   \n",
       "mean    ...      1.992132      1.041800  2.764759e+07       NaN      1.970647   \n",
       "std     ...      0.088352      0.200136  2.751038e+08       NaN     11.418802   \n",
       "min     ...      1.000000      1.000000  0.000000e+00       NaN      0.000000   \n",
       "25%     ...      2.000000      1.000000  9.053130e+05       NaN      0.000000   \n",
       "50%     ...      2.000000      1.000000  2.720018e+06       NaN      0.000000   \n",
       "75%     ...      2.000000      1.000000  7.631045e+06       NaN      0.000000   \n",
       "max     ...      2.000000      2.000000  2.226023e+10       NaN    100.000000   \n",
       "\n",
       "                 DUR   ENTITY         MONTH           DAY  TRAIN_OR_TEST  \n",
       "count   39131.000000    39557  39557.000000  39557.000000          39557  \n",
       "unique           NaN      170           NaN           NaN              2  \n",
       "top              NaN  entity2           NaN           NaN          train  \n",
       "freq             NaN     7195           NaN           NaN          19779  \n",
       "mean        3.136012      NaN      6.528023     16.298278            NaN  \n",
       "std         3.549216      NaN      3.364236      8.754621            NaN  \n",
       "min         0.000000      NaN      1.000000      1.000000            NaN  \n",
       "25%         1.000000      NaN      4.000000      9.000000            NaN  \n",
       "50%         2.300000      NaN      6.000000     16.000000            NaN  \n",
       "75%         4.900000      NaN      9.000000     24.000000            NaN  \n",
       "max        53.200000      NaN     12.000000     31.000000            NaN  \n",
       "\n",
       "[11 rows x 40 columns]"
      ]
     },
     "execution_count": 7,
     "metadata": {},
     "output_type": "execute_result"
    }
   ],
   "source": [
    "df_orig_all.describe(include='all')"
   ]
  },
  {
   "cell_type": "code",
   "execution_count": 8,
   "metadata": {},
   "outputs": [
    {
     "data": {
      "text/plain": [
       "ID                      0\n",
       "DEFAULT             19778\n",
       "SECTOR                  0\n",
       "SUBSECTOR               0\n",
       "O1000                   1\n",
       "O1200                   0\n",
       "O6000                 200\n",
       "P1000                  27\n",
       "P3000                  27\n",
       "P5000                  27\n",
       "N1000                   2\n",
       "N1100                   1\n",
       "N1300                   1\n",
       "N3000                  53\n",
       "N3200                   1\n",
       "N3300                   1\n",
       "M0000                   1\n",
       "M1100                   0\n",
       "M1200                   1\n",
       "M1300                   1\n",
       "M2200                   0\n",
       "M2300                   0\n",
       "M2400                   1\n",
       "CONTRACT_SUM            0\n",
       "CONTRACT_TYPE           0\n",
       "CONTRACT_SUBTYPE        0\n",
       "DIM_DENOM_DEV_ID        0\n",
       "MODE                   46\n",
       "FREQ                   47\n",
       "UK                   3532\n",
       "PH                   2189\n",
       "KKV                  2189\n",
       "EXPOSURE             2879\n",
       "SIZE_CAT                0\n",
       "EXPSHARE              385\n",
       "DUR                   426\n",
       "ENTITY                  0\n",
       "MONTH                   0\n",
       "DAY                     0\n",
       "TRAIN_OR_TEST           0\n",
       "dtype: int64"
      ]
     },
     "execution_count": 8,
     "metadata": {},
     "output_type": "execute_result"
    }
   ],
   "source": [
    "# Count of NaN values per feature\n",
    "df_orig_all.isna().sum()"
   ]
  },
  {
   "cell_type": "code",
   "execution_count": 9,
   "metadata": {},
   "outputs": [],
   "source": [
    "def add_missing_column(input_df, column):\n",
    "    df = input_df.copy()\n",
    "    new_column = f'{column}_WAS_MISSING'\n",
    "    df.loc[:, new_column] = df[column].map(lambda x: 1 if pd.isna(x) else 0)\n",
    "    return df"
   ]
  },
  {
   "cell_type": "code",
   "execution_count": 10,
   "metadata": {},
   "outputs": [],
   "source": [
    "# Feltöltés átlaggal + új oszlop hozzáadása\n",
    "def replace_with_mean(input_df, column):\n",
    "    df = add_missing_column(input_df, column)\n",
    "    mean = df[column].mean()\n",
    "    df[column].fillna(mean, inplace=True)\n",
    "    return df"
   ]
  },
  {
   "cell_type": "code",
   "execution_count": 11,
   "metadata": {},
   "outputs": [],
   "source": [
    "# Feltöltés módusszal + új oszlop hozzáadása\n",
    "def replace_with_mode(input_df, column):\n",
    "    df = add_missing_column(input_df, column)\n",
    "    mode = df[column].mode()[0]\n",
    "    df[column].fillna(mode, inplace=True)\n",
    "    return df"
   ]
  },
  {
   "cell_type": "code",
   "execution_count": 12,
   "metadata": {},
   "outputs": [],
   "source": [
    "# O1000\n",
    "df_orig_all = df_orig_all.dropna(subset=['O1000'])"
   ]
  },
  {
   "cell_type": "code",
   "execution_count": 13,
   "metadata": {},
   "outputs": [],
   "source": [
    "# Replace missing numerical values\n",
    "columns_to_replace = ['UK', 'PH', 'KKV', 'EXPOSURE', 'EXPSHARE', 'DUR', 'O6000', 'P1000',\n",
    "                      'P3000', 'P5000', 'N1000', 'N3000', 'M1200', 'M1300', 'M2400']\n",
    "for column in columns_to_replace:\n",
    "    df_orig_all = replace_with_mean(df_orig_all, column)"
   ]
  },
  {
   "cell_type": "code",
   "execution_count": 14,
   "metadata": {},
   "outputs": [
    {
     "data": {
      "text/plain": [
       "array(['N', 'L', 'G', 'C', 'F', 'P', 'J', 'H', 'B', 'I', 'D', 'O', 'K',\n",
       "       nan, 'M', 'E'], dtype=object)"
      ]
     },
     "execution_count": 14,
     "metadata": {},
     "output_type": "execute_result"
    }
   ],
   "source": [
    "df_orig_all['MODE'].unique()"
   ]
  },
  {
   "cell_type": "code",
   "execution_count": 15,
   "metadata": {},
   "outputs": [
    {
     "data": {
      "text/plain": [
       "array(['B', 'F', 'C', 'H', 'E', 'D', nan, 'G'], dtype=object)"
      ]
     },
     "execution_count": 15,
     "metadata": {},
     "output_type": "execute_result"
    }
   ],
   "source": [
    "df_orig_all['FREQ'].unique()"
   ]
  },
  {
   "cell_type": "code",
   "execution_count": 16,
   "metadata": {},
   "outputs": [],
   "source": [
    "# Replace missing categorical values\n",
    "columns_to_replace = ['MODE', 'FREQ']\n",
    "for column in columns_to_replace:\n",
    "    df_orig_all = replace_with_mode(df_orig_all, column)"
   ]
  },
  {
   "cell_type": "code",
   "execution_count": 17,
   "metadata": {},
   "outputs": [
    {
     "data": {
      "text/plain": [
       "ID                          0\n",
       "DEFAULT                 19778\n",
       "SECTOR                      0\n",
       "SUBSECTOR                   0\n",
       "O1000                       0\n",
       "O1200                       0\n",
       "O6000                       0\n",
       "P1000                       0\n",
       "P3000                       0\n",
       "P5000                       0\n",
       "N1000                       0\n",
       "N1100                       0\n",
       "N1300                       0\n",
       "N3000                       0\n",
       "N3200                       0\n",
       "N3300                       0\n",
       "M0000                       0\n",
       "M1100                       0\n",
       "M1200                       0\n",
       "M1300                       0\n",
       "M2200                       0\n",
       "M2300                       0\n",
       "M2400                       0\n",
       "CONTRACT_SUM                0\n",
       "CONTRACT_TYPE               0\n",
       "CONTRACT_SUBTYPE            0\n",
       "DIM_DENOM_DEV_ID            0\n",
       "MODE                        0\n",
       "FREQ                        0\n",
       "UK                          0\n",
       "PH                          0\n",
       "KKV                         0\n",
       "EXPOSURE                    0\n",
       "SIZE_CAT                    0\n",
       "EXPSHARE                    0\n",
       "DUR                         0\n",
       "ENTITY                      0\n",
       "MONTH                       0\n",
       "DAY                         0\n",
       "TRAIN_OR_TEST               0\n",
       "UK_WAS_MISSING              0\n",
       "PH_WAS_MISSING              0\n",
       "KKV_WAS_MISSING             0\n",
       "EXPOSURE_WAS_MISSING        0\n",
       "EXPSHARE_WAS_MISSING        0\n",
       "DUR_WAS_MISSING             0\n",
       "O6000_WAS_MISSING           0\n",
       "P1000_WAS_MISSING           0\n",
       "P3000_WAS_MISSING           0\n",
       "P5000_WAS_MISSING           0\n",
       "N1000_WAS_MISSING           0\n",
       "N3000_WAS_MISSING           0\n",
       "M1200_WAS_MISSING           0\n",
       "M1300_WAS_MISSING           0\n",
       "M2400_WAS_MISSING           0\n",
       "MODE_WAS_MISSING            0\n",
       "FREQ_WAS_MISSING            0\n",
       "dtype: int64"
      ]
     },
     "execution_count": 17,
     "metadata": {},
     "output_type": "execute_result"
    }
   ],
   "source": [
    "# NaN elemek száma a DataFrame-ben\n",
    "df_orig_all.isna().sum()"
   ]
  },
  {
   "cell_type": "code",
   "execution_count": 18,
   "metadata": {},
   "outputs": [
    {
     "data": {
      "text/html": [
       "<div>\n",
       "<style scoped>\n",
       "    .dataframe tbody tr th:only-of-type {\n",
       "        vertical-align: middle;\n",
       "    }\n",
       "\n",
       "    .dataframe tbody tr th {\n",
       "        vertical-align: top;\n",
       "    }\n",
       "\n",
       "    .dataframe thead th {\n",
       "        text-align: right;\n",
       "    }\n",
       "</style>\n",
       "<table border=\"1\" class=\"dataframe\">\n",
       "  <thead>\n",
       "    <tr style=\"text-align: right;\">\n",
       "      <th></th>\n",
       "      <th>ID</th>\n",
       "      <th>DEFAULT</th>\n",
       "      <th>SECTOR</th>\n",
       "      <th>SUBSECTOR</th>\n",
       "      <th>O1000</th>\n",
       "      <th>O1200</th>\n",
       "      <th>O6000</th>\n",
       "      <th>P1000</th>\n",
       "      <th>P3000</th>\n",
       "      <th>P5000</th>\n",
       "      <th>...</th>\n",
       "      <th>P1000_WAS_MISSING</th>\n",
       "      <th>P3000_WAS_MISSING</th>\n",
       "      <th>P5000_WAS_MISSING</th>\n",
       "      <th>N1000_WAS_MISSING</th>\n",
       "      <th>N3000_WAS_MISSING</th>\n",
       "      <th>M1200_WAS_MISSING</th>\n",
       "      <th>M1300_WAS_MISSING</th>\n",
       "      <th>M2400_WAS_MISSING</th>\n",
       "      <th>MODE_WAS_MISSING</th>\n",
       "      <th>FREQ_WAS_MISSING</th>\n",
       "    </tr>\n",
       "  </thead>\n",
       "  <tbody>\n",
       "    <tr>\n",
       "      <th>0</th>\n",
       "      <td>1</td>\n",
       "      <td>0.0</td>\n",
       "      <td>BI</td>\n",
       "      <td>I</td>\n",
       "      <td>603051.0</td>\n",
       "      <td>0.000</td>\n",
       "      <td>18633.0</td>\n",
       "      <td>16993.0</td>\n",
       "      <td>18483.0</td>\n",
       "      <td>19377.0</td>\n",
       "      <td>...</td>\n",
       "      <td>0</td>\n",
       "      <td>0</td>\n",
       "      <td>0</td>\n",
       "      <td>0</td>\n",
       "      <td>0</td>\n",
       "      <td>0</td>\n",
       "      <td>0</td>\n",
       "      <td>0</td>\n",
       "      <td>0</td>\n",
       "      <td>0</td>\n",
       "    </tr>\n",
       "    <tr>\n",
       "      <th>1</th>\n",
       "      <td>2</td>\n",
       "      <td>0.0</td>\n",
       "      <td>BE</td>\n",
       "      <td>D</td>\n",
       "      <td>310318.0</td>\n",
       "      <td>0.000</td>\n",
       "      <td>4255.0</td>\n",
       "      <td>14485.0</td>\n",
       "      <td>17362.0</td>\n",
       "      <td>14778.0</td>\n",
       "      <td>...</td>\n",
       "      <td>0</td>\n",
       "      <td>0</td>\n",
       "      <td>0</td>\n",
       "      <td>0</td>\n",
       "      <td>0</td>\n",
       "      <td>0</td>\n",
       "      <td>0</td>\n",
       "      <td>0</td>\n",
       "      <td>0</td>\n",
       "      <td>0</td>\n",
       "    </tr>\n",
       "    <tr>\n",
       "      <th>2</th>\n",
       "      <td>3</td>\n",
       "      <td>0.0</td>\n",
       "      <td>BI</td>\n",
       "      <td>K</td>\n",
       "      <td>19711743.0</td>\n",
       "      <td>4566341.638</td>\n",
       "      <td>41305.0</td>\n",
       "      <td>290507.0</td>\n",
       "      <td>205264.0</td>\n",
       "      <td>172007.0</td>\n",
       "      <td>...</td>\n",
       "      <td>0</td>\n",
       "      <td>0</td>\n",
       "      <td>0</td>\n",
       "      <td>0</td>\n",
       "      <td>0</td>\n",
       "      <td>0</td>\n",
       "      <td>0</td>\n",
       "      <td>0</td>\n",
       "      <td>0</td>\n",
       "      <td>0</td>\n",
       "    </tr>\n",
       "    <tr>\n",
       "      <th>3</th>\n",
       "      <td>4</td>\n",
       "      <td>0.0</td>\n",
       "      <td>BJ</td>\n",
       "      <td>G</td>\n",
       "      <td>165567.0</td>\n",
       "      <td>0.000</td>\n",
       "      <td>5542.0</td>\n",
       "      <td>9638.0</td>\n",
       "      <td>8899.0</td>\n",
       "      <td>6720.0</td>\n",
       "      <td>...</td>\n",
       "      <td>0</td>\n",
       "      <td>0</td>\n",
       "      <td>0</td>\n",
       "      <td>0</td>\n",
       "      <td>0</td>\n",
       "      <td>0</td>\n",
       "      <td>0</td>\n",
       "      <td>0</td>\n",
       "      <td>0</td>\n",
       "      <td>0</td>\n",
       "    </tr>\n",
       "    <tr>\n",
       "      <th>4</th>\n",
       "      <td>5</td>\n",
       "      <td>0.0</td>\n",
       "      <td>BH</td>\n",
       "      <td>C</td>\n",
       "      <td>3212773.0</td>\n",
       "      <td>2987.000</td>\n",
       "      <td>53149.0</td>\n",
       "      <td>22350.0</td>\n",
       "      <td>-23309.0</td>\n",
       "      <td>-24611.0</td>\n",
       "      <td>...</td>\n",
       "      <td>0</td>\n",
       "      <td>0</td>\n",
       "      <td>0</td>\n",
       "      <td>0</td>\n",
       "      <td>0</td>\n",
       "      <td>0</td>\n",
       "      <td>0</td>\n",
       "      <td>0</td>\n",
       "      <td>0</td>\n",
       "      <td>0</td>\n",
       "    </tr>\n",
       "  </tbody>\n",
       "</table>\n",
       "<p>5 rows × 57 columns</p>\n",
       "</div>"
      ],
      "text/plain": [
       "   ID  DEFAULT SECTOR SUBSECTOR       O1000        O1200    O6000     P1000  \\\n",
       "0   1      0.0     BI         I    603051.0        0.000  18633.0   16993.0   \n",
       "1   2      0.0     BE         D    310318.0        0.000   4255.0   14485.0   \n",
       "2   3      0.0     BI         K  19711743.0  4566341.638  41305.0  290507.0   \n",
       "3   4      0.0     BJ         G    165567.0        0.000   5542.0    9638.0   \n",
       "4   5      0.0     BH         C   3212773.0     2987.000  53149.0   22350.0   \n",
       "\n",
       "      P3000     P5000  ...  P1000_WAS_MISSING  P3000_WAS_MISSING  \\\n",
       "0   18483.0   19377.0  ...                  0                  0   \n",
       "1   17362.0   14778.0  ...                  0                  0   \n",
       "2  205264.0  172007.0  ...                  0                  0   \n",
       "3    8899.0    6720.0  ...                  0                  0   \n",
       "4  -23309.0  -24611.0  ...                  0                  0   \n",
       "\n",
       "   P5000_WAS_MISSING  N1000_WAS_MISSING  N3000_WAS_MISSING  M1200_WAS_MISSING  \\\n",
       "0                  0                  0                  0                  0   \n",
       "1                  0                  0                  0                  0   \n",
       "2                  0                  0                  0                  0   \n",
       "3                  0                  0                  0                  0   \n",
       "4                  0                  0                  0                  0   \n",
       "\n",
       "   M1300_WAS_MISSING  M2400_WAS_MISSING  MODE_WAS_MISSING  FREQ_WAS_MISSING  \n",
       "0                  0                  0                 0                 0  \n",
       "1                  0                  0                 0                 0  \n",
       "2                  0                  0                 0                 0  \n",
       "3                  0                  0                 0                 0  \n",
       "4                  0                  0                 0                 0  \n",
       "\n",
       "[5 rows x 57 columns]"
      ]
     },
     "execution_count": 18,
     "metadata": {},
     "output_type": "execute_result"
    }
   ],
   "source": [
    "df_orig_all.head()"
   ]
  },
  {
   "cell_type": "markdown",
   "metadata": {},
   "source": [
    "### Kiugró értékek"
   ]
  },
  {
   "cell_type": "code",
   "execution_count": 19,
   "metadata": {},
   "outputs": [],
   "source": [
    "# Nem ismerem az adatokat, így nem tudom eldönteni mi számít kiugrónak"
   ]
  },
  {
   "cell_type": "markdown",
   "metadata": {},
   "source": [
    "### Kategorikus oszlopok kódolása"
   ]
  },
  {
   "cell_type": "code",
   "execution_count": 20,
   "metadata": {},
   "outputs": [],
   "source": [
    "def dummy_encode(input_df, column, limit, drop_last=True):\n",
    "    df = input_df.copy()\n",
    "    unique_count = df[column].nunique()\n",
    "    if (drop_last is True and unique_count <= limit):\n",
    "        limit = unique_count - 1\n",
    "    values = list(df[column].value_counts().index.values[:limit])\n",
    "    for value in values:\n",
    "        df[f'{column}={value}'] = df[column].map(lambda x: 1 if x == value else 0)\n",
    "    return df"
   ]
  },
  {
   "cell_type": "code",
   "execution_count": 21,
   "metadata": {},
   "outputs": [
    {
     "data": {
      "text/plain": [
       "SECTOR              object\n",
       "SUBSECTOR           object\n",
       "CONTRACT_TYPE       object\n",
       "CONTRACT_SUBTYPE    object\n",
       "DIM_DENOM_DEV_ID    object\n",
       "MODE                object\n",
       "FREQ                object\n",
       "SIZE_CAT            object\n",
       "ENTITY              object\n",
       "TRAIN_OR_TEST       object\n",
       "dtype: object"
      ]
     },
     "execution_count": 21,
     "metadata": {},
     "output_type": "execute_result"
    }
   ],
   "source": [
    "# Kategorikus változók listázása\n",
    "df_orig_all.dtypes.where(lambda x: x == object).dropna()"
   ]
  },
  {
   "cell_type": "markdown",
   "metadata": {},
   "source": [
    "#### Sector"
   ]
  },
  {
   "cell_type": "code",
   "execution_count": 22,
   "metadata": {},
   "outputs": [
    {
     "data": {
      "text/plain": [
       "BI    4820.0\n",
       "BJ    4670.0\n",
       "BG    2509.0\n",
       "BK    2188.0\n",
       "CA    1785.0\n",
       "BH    1762.0\n",
       "BE    1608.0\n",
       "AC    1271.0\n",
       "CD    1258.0\n",
       "AQ    1158.0\n",
       "CQ    1050.0\n",
       "CC    1012.0\n",
       "BQ     865.0\n",
       "BV     832.0\n",
       "CB     763.0\n",
       "BF     737.0\n",
       "AB     712.0\n",
       "AF     659.0\n",
       "AH     564.0\n",
       "CM     527.0\n",
       "CN     502.0\n",
       "BN     474.0\n",
       "AN     426.0\n",
       "AT     415.0\n",
       "AY     370.0\n",
       "CG     365.0\n",
       "CI     339.0\n",
       "CF     337.0\n",
       "CL     322.0\n",
       "CP     294.0\n",
       "AJ     284.0\n",
       "BZ     261.0\n",
       "AW     255.0\n",
       "BP     249.0\n",
       "AO     203.0\n",
       "DA     197.0\n",
       "BR     191.0\n",
       "AX     188.0\n",
       "BC     181.0\n",
       "CX     174.0\n",
       "CZ     161.0\n",
       "AR     151.0\n",
       "BW     147.0\n",
       "AZ     146.0\n",
       "AS     144.0\n",
       "CJ     140.0\n",
       "CE     136.0\n",
       "CU     134.0\n",
       "CK     132.0\n",
       "BS     132.0\n",
       "BU     127.0\n",
       "AI     122.0\n",
       "AE     121.0\n",
       "AL     119.0\n",
       "AU     118.0\n",
       "AD     114.0\n",
       "Name: SECTOR, dtype: float64"
      ]
     },
     "execution_count": 22,
     "metadata": {},
     "output_type": "execute_result"
    }
   ],
   "source": [
    "# TODO: ezt még lehet próbálgatni más értékekkel\n",
    "df_orig_all['SECTOR'].value_counts().where(lambda x: x > 100).dropna()"
   ]
  },
  {
   "cell_type": "code",
   "execution_count": 23,
   "metadata": {},
   "outputs": [],
   "source": [
    "df_orig_all = dummy_encode(df_orig_all, 'SECTOR', 56)"
   ]
  },
  {
   "cell_type": "markdown",
   "metadata": {},
   "source": [
    "#### Subsector"
   ]
  },
  {
   "cell_type": "code",
   "execution_count": 24,
   "metadata": {},
   "outputs": [
    {
     "data": {
      "text/plain": [
       "C    11188\n",
       "D    10878\n",
       "E     3423\n",
       "F     3245\n",
       "I     2876\n",
       "K     2863\n",
       "B     2012\n",
       "G     1483\n",
       "H     1425\n",
       "J      159\n",
       "A        4\n",
       "Name: SUBSECTOR, dtype: int64"
      ]
     },
     "execution_count": 24,
     "metadata": {},
     "output_type": "execute_result"
    }
   ],
   "source": [
    "df_orig_all['SUBSECTOR'].value_counts()"
   ]
  },
  {
   "cell_type": "code",
   "execution_count": 25,
   "metadata": {},
   "outputs": [],
   "source": [
    "df_orig_all = dummy_encode(df_orig_all, 'SUBSECTOR', 9)"
   ]
  },
  {
   "cell_type": "markdown",
   "metadata": {},
   "source": [
    "#### CONTRACT_TYPE"
   ]
  },
  {
   "cell_type": "code",
   "execution_count": 26,
   "metadata": {},
   "outputs": [
    {
     "data": {
      "text/plain": [
       "C    21802\n",
       "A    15610\n",
       "D     1222\n",
       "B      922\n",
       "Name: CONTRACT_TYPE, dtype: int64"
      ]
     },
     "execution_count": 26,
     "metadata": {},
     "output_type": "execute_result"
    }
   ],
   "source": [
    "df_orig_all['CONTRACT_TYPE'].value_counts()"
   ]
  },
  {
   "cell_type": "code",
   "execution_count": 27,
   "metadata": {},
   "outputs": [],
   "source": [
    "df_orig_all = dummy_encode(df_orig_all, 'CONTRACT_TYPE', 2)"
   ]
  },
  {
   "cell_type": "markdown",
   "metadata": {},
   "source": [
    "#### CONTRACT_SUBTYPE"
   ]
  },
  {
   "cell_type": "code",
   "execution_count": 28,
   "metadata": {},
   "outputs": [
    {
     "data": {
      "text/plain": [
       "C    17255\n",
       "G    14196\n",
       "D     6235\n",
       "A     1350\n",
       "F      452\n",
       "B       31\n",
       "H       22\n",
       "I       14\n",
       "E        1\n",
       "Name: CONTRACT_SUBTYPE, dtype: int64"
      ]
     },
     "execution_count": 28,
     "metadata": {},
     "output_type": "execute_result"
    }
   ],
   "source": [
    "df_orig_all['CONTRACT_SUBTYPE'].value_counts()"
   ]
  },
  {
   "cell_type": "code",
   "execution_count": 29,
   "metadata": {},
   "outputs": [],
   "source": [
    "df_orig_all = dummy_encode(df_orig_all, 'CONTRACT_SUBTYPE', 5)"
   ]
  },
  {
   "cell_type": "markdown",
   "metadata": {},
   "source": [
    "#### DIM_DENOM_DEV_ID"
   ]
  },
  {
   "cell_type": "code",
   "execution_count": 30,
   "metadata": {},
   "outputs": [
    {
     "data": {
      "text/plain": [
       "C    37180\n",
       "B     2304\n",
       "F       64\n",
       "A        4\n",
       "G        2\n",
       "E        1\n",
       "D        1\n",
       "Name: DIM_DENOM_DEV_ID, dtype: int64"
      ]
     },
     "execution_count": 30,
     "metadata": {},
     "output_type": "execute_result"
    }
   ],
   "source": [
    "df_orig_all['DIM_DENOM_DEV_ID'].value_counts()"
   ]
  },
  {
   "cell_type": "code",
   "execution_count": 31,
   "metadata": {},
   "outputs": [],
   "source": [
    "df_orig_all = dummy_encode(df_orig_all, 'DIM_DENOM_DEV_ID', 2)"
   ]
  },
  {
   "cell_type": "markdown",
   "metadata": {},
   "source": [
    "#### MODE"
   ]
  },
  {
   "cell_type": "code",
   "execution_count": 32,
   "metadata": {},
   "outputs": [
    {
     "data": {
      "text/plain": [
       "L    14161\n",
       "P     7355\n",
       "C     5462\n",
       "F     3776\n",
       "J     2461\n",
       "G     2408\n",
       "I     1012\n",
       "H      944\n",
       "D      940\n",
       "B      502\n",
       "N      355\n",
       "K      111\n",
       "O       61\n",
       "M        7\n",
       "E        1\n",
       "Name: MODE, dtype: int64"
      ]
     },
     "execution_count": 32,
     "metadata": {},
     "output_type": "execute_result"
    }
   ],
   "source": [
    "df_orig_all['MODE'].value_counts()"
   ]
  },
  {
   "cell_type": "code",
   "execution_count": 33,
   "metadata": {},
   "outputs": [],
   "source": [
    "df_orig_all = dummy_encode(df_orig_all, 'MODE', 10)"
   ]
  },
  {
   "cell_type": "markdown",
   "metadata": {},
   "source": [
    "#### FREQ"
   ]
  },
  {
   "cell_type": "code",
   "execution_count": 34,
   "metadata": {},
   "outputs": [
    {
     "data": {
      "text/plain": [
       "F    16655\n",
       "B    14783\n",
       "C     6038\n",
       "H     1769\n",
       "E      236\n",
       "D       73\n",
       "G        2\n",
       "Name: FREQ, dtype: int64"
      ]
     },
     "execution_count": 34,
     "metadata": {},
     "output_type": "execute_result"
    }
   ],
   "source": [
    "df_orig_all['FREQ'].value_counts()"
   ]
  },
  {
   "cell_type": "code",
   "execution_count": 35,
   "metadata": {},
   "outputs": [],
   "source": [
    "df_orig_all = dummy_encode(df_orig_all, 'FREQ', 4)"
   ]
  },
  {
   "cell_type": "markdown",
   "metadata": {},
   "source": [
    "#### SIZE_CAT"
   ]
  },
  {
   "cell_type": "code",
   "execution_count": 36,
   "metadata": {},
   "outputs": [
    {
     "data": {
      "text/plain": [
       "kat2    10553\n",
       "kat3     8466\n",
       "kat1     6878\n",
       "kat4     6583\n",
       "kat5     4363\n",
       "kat6     1467\n",
       "kat7      821\n",
       "kat8      221\n",
       "kat9      204\n",
       "Name: SIZE_CAT, dtype: int64"
      ]
     },
     "execution_count": 36,
     "metadata": {},
     "output_type": "execute_result"
    }
   ],
   "source": [
    "df_orig_all['SIZE_CAT'].value_counts()"
   ]
  },
  {
   "cell_type": "code",
   "execution_count": 37,
   "metadata": {},
   "outputs": [],
   "source": [
    "df_orig_all = dummy_encode(df_orig_all, 'SIZE_CAT', 6)"
   ]
  },
  {
   "cell_type": "markdown",
   "metadata": {},
   "source": [
    "#### ENTITY"
   ]
  },
  {
   "cell_type": "code",
   "execution_count": 38,
   "metadata": {},
   "outputs": [
    {
     "data": {
      "text/plain": [
       "entity2     7195.0\n",
       "entity16    4762.0\n",
       "entity10    3920.0\n",
       "entity13    2698.0\n",
       "entity12    2575.0\n",
       "entity25    1614.0\n",
       "entity14    1320.0\n",
       "entity18    1171.0\n",
       "entity24    1145.0\n",
       "entity34    1057.0\n",
       "entity1     1018.0\n",
       "entity38     976.0\n",
       "entity3      932.0\n",
       "entity21     748.0\n",
       "entity9      636.0\n",
       "entity8      435.0\n",
       "entity15     323.0\n",
       "entity85     296.0\n",
       "entity31     288.0\n",
       "entity45     251.0\n",
       "entity46     243.0\n",
       "entity42     224.0\n",
       "entity59     214.0\n",
       "entity50     204.0\n",
       "entity37     203.0\n",
       "Name: ENTITY, dtype: float64"
      ]
     },
     "execution_count": 38,
     "metadata": {},
     "output_type": "execute_result"
    }
   ],
   "source": [
    "df_orig_all['ENTITY'].value_counts().where(lambda x: x > 200).dropna()"
   ]
  },
  {
   "cell_type": "code",
   "execution_count": 39,
   "metadata": {},
   "outputs": [],
   "source": [
    "df_orig_all = dummy_encode(df_orig_all, 'ENTITY', 25)"
   ]
  },
  {
   "cell_type": "markdown",
   "metadata": {},
   "source": [
    "### Értékkészlet transzformáció"
   ]
  },
  {
   "cell_type": "code",
   "execution_count": 40,
   "metadata": {},
   "outputs": [],
   "source": [
    "# https://medium.com/@rrfd/standardize-or-normalize-examples-in-python-e3f174b65dfc\n",
    "# Get column names first\n",
    "columns = ['O1000', 'O1200', 'O6000', 'P1000', 'P3000', 'P5000', 'N1000', 'N1100', 'N1300', 'N3000',\n",
    "           'N3200', 'N3300', 'M0000', 'M1100', 'M1200', 'M1300', 'M2200', 'M2300', 'M2400', 'CONTRACT_SUM',\n",
    "           'UK', 'PH', 'KKV', 'EXPOSURE', 'EXPSHARE', 'DUR', 'MONTH', 'DAY']\n",
    "# Create the Scaler object\n",
    "scaler = preprocessing.StandardScaler()\n",
    "# Fit your data on the scaler object\n",
    "scaled_df = df_orig_all.copy()\n",
    "scaled_df[columns] = scaler.fit_transform(df_orig_all[columns])\n",
    "scaled_df[columns] = pd.DataFrame(scaled_df, columns=columns)"
   ]
  },
  {
   "cell_type": "markdown",
   "metadata": {},
   "source": [
    "## Modellparaméterek meghatározása"
   ]
  },
  {
   "cell_type": "code",
   "execution_count": 41,
   "metadata": {},
   "outputs": [],
   "source": [
    "def cross_validate(input_df, target, input_columns):\n",
    "    df = input_df.copy()\n",
    "    df = df.reset_index()\n",
    "    result = pd.DataFrame(columns=['learning_rate', 'n_estimators', 'max_depth', 'min_samples_split',\n",
    "                                   'min_samples_leaf', 'avgAUC'])\n",
    "    for learning_rate in [0.0001, 0.001, 0.01, 0.1, 0.2, 0.3]:\n",
    "        for n_estimators in [100, 200, 300, 400, 500]:\n",
    "            for max_depth in [3, 5, 9]:\n",
    "                for min_samples_split in [2, 3, 5, 9, 15]:\n",
    "                    for min_samples_leaf in [1, 3, 5, 9, 15]:\n",
    "                        auc_scores = []\n",
    "                        model = GradientBoostingClassifier(learning_rate=learning_rate, n_estimators=n_estimators,\n",
    "                                                           max_depth=max_depth, min_samples_split=min_samples_split,\n",
    "                                                           min_samples_leaf=min_samples_leaf, random_state=42)\n",
    "                        for i in range(0, 20):\n",
    "                            df_current_test = df[df['index'] % 20 == i]\n",
    "                            df_current_train = df[df['index'] % 20 != i]\n",
    "                            model.fit(df_current_train[input_columns], df_current_train[target])\n",
    "                            df_current_test['pred'] = model.predict_proba(df_current_test[input_columns])[:,1]\n",
    "                            auc = roc_auc_score(df_current_test[target], df_current_test['pred'])\n",
    "                            auc_scores.append(auc)\n",
    "                        avgAUC = np.mean(auc_scores)\n",
    "                        result = result.append({'learning_rate': learning_rate, 'n_estimators': n_estimators,\n",
    "                                                'max_depth': max_depth, 'min_samples_split': min_samples_split,\n",
    "                                                'min_samples_leaf': min_samples_leaf, 'avgAUC': avgAUC}, ignore_index=True)\n",
    "    return result"
   ]
  },
  {
   "cell_type": "code",
   "execution_count": 42,
   "metadata": {},
   "outputs": [
    {
     "data": {
      "text/html": [
       "<div>\n",
       "<style scoped>\n",
       "    .dataframe tbody tr th:only-of-type {\n",
       "        vertical-align: middle;\n",
       "    }\n",
       "\n",
       "    .dataframe tbody tr th {\n",
       "        vertical-align: top;\n",
       "    }\n",
       "\n",
       "    .dataframe thead th {\n",
       "        text-align: right;\n",
       "    }\n",
       "</style>\n",
       "<table border=\"1\" class=\"dataframe\">\n",
       "  <thead>\n",
       "    <tr style=\"text-align: right;\">\n",
       "      <th></th>\n",
       "      <th>ID</th>\n",
       "      <th>DEFAULT</th>\n",
       "      <th>SECTOR</th>\n",
       "      <th>SUBSECTOR</th>\n",
       "      <th>O1000</th>\n",
       "      <th>O1200</th>\n",
       "      <th>O6000</th>\n",
       "      <th>P1000</th>\n",
       "      <th>P3000</th>\n",
       "      <th>P5000</th>\n",
       "      <th>...</th>\n",
       "      <th>ENTITY=entity8</th>\n",
       "      <th>ENTITY=entity15</th>\n",
       "      <th>ENTITY=entity85</th>\n",
       "      <th>ENTITY=entity31</th>\n",
       "      <th>ENTITY=entity45</th>\n",
       "      <th>ENTITY=entity46</th>\n",
       "      <th>ENTITY=entity42</th>\n",
       "      <th>ENTITY=entity59</th>\n",
       "      <th>ENTITY=entity50</th>\n",
       "      <th>ENTITY=entity37</th>\n",
       "    </tr>\n",
       "  </thead>\n",
       "  <tbody>\n",
       "    <tr>\n",
       "      <th>count</th>\n",
       "      <td>39556.000000</td>\n",
       "      <td>19778.000000</td>\n",
       "      <td>39556</td>\n",
       "      <td>39556</td>\n",
       "      <td>3.955600e+04</td>\n",
       "      <td>3.955600e+04</td>\n",
       "      <td>3.955600e+04</td>\n",
       "      <td>3.955600e+04</td>\n",
       "      <td>3.955600e+04</td>\n",
       "      <td>3.955600e+04</td>\n",
       "      <td>...</td>\n",
       "      <td>39556.000000</td>\n",
       "      <td>39556.000000</td>\n",
       "      <td>39556.000000</td>\n",
       "      <td>39556.000000</td>\n",
       "      <td>39556.000000</td>\n",
       "      <td>39556.000000</td>\n",
       "      <td>39556.000000</td>\n",
       "      <td>39556.000000</td>\n",
       "      <td>39556.000000</td>\n",
       "      <td>39556.000000</td>\n",
       "    </tr>\n",
       "    <tr>\n",
       "      <th>unique</th>\n",
       "      <td>NaN</td>\n",
       "      <td>NaN</td>\n",
       "      <td>80</td>\n",
       "      <td>11</td>\n",
       "      <td>NaN</td>\n",
       "      <td>NaN</td>\n",
       "      <td>NaN</td>\n",
       "      <td>NaN</td>\n",
       "      <td>NaN</td>\n",
       "      <td>NaN</td>\n",
       "      <td>...</td>\n",
       "      <td>NaN</td>\n",
       "      <td>NaN</td>\n",
       "      <td>NaN</td>\n",
       "      <td>NaN</td>\n",
       "      <td>NaN</td>\n",
       "      <td>NaN</td>\n",
       "      <td>NaN</td>\n",
       "      <td>NaN</td>\n",
       "      <td>NaN</td>\n",
       "      <td>NaN</td>\n",
       "    </tr>\n",
       "    <tr>\n",
       "      <th>top</th>\n",
       "      <td>NaN</td>\n",
       "      <td>NaN</td>\n",
       "      <td>BI</td>\n",
       "      <td>C</td>\n",
       "      <td>NaN</td>\n",
       "      <td>NaN</td>\n",
       "      <td>NaN</td>\n",
       "      <td>NaN</td>\n",
       "      <td>NaN</td>\n",
       "      <td>NaN</td>\n",
       "      <td>...</td>\n",
       "      <td>NaN</td>\n",
       "      <td>NaN</td>\n",
       "      <td>NaN</td>\n",
       "      <td>NaN</td>\n",
       "      <td>NaN</td>\n",
       "      <td>NaN</td>\n",
       "      <td>NaN</td>\n",
       "      <td>NaN</td>\n",
       "      <td>NaN</td>\n",
       "      <td>NaN</td>\n",
       "    </tr>\n",
       "    <tr>\n",
       "      <th>freq</th>\n",
       "      <td>NaN</td>\n",
       "      <td>NaN</td>\n",
       "      <td>4820</td>\n",
       "      <td>11188</td>\n",
       "      <td>NaN</td>\n",
       "      <td>NaN</td>\n",
       "      <td>NaN</td>\n",
       "      <td>NaN</td>\n",
       "      <td>NaN</td>\n",
       "      <td>NaN</td>\n",
       "      <td>...</td>\n",
       "      <td>NaN</td>\n",
       "      <td>NaN</td>\n",
       "      <td>NaN</td>\n",
       "      <td>NaN</td>\n",
       "      <td>NaN</td>\n",
       "      <td>NaN</td>\n",
       "      <td>NaN</td>\n",
       "      <td>NaN</td>\n",
       "      <td>NaN</td>\n",
       "      <td>NaN</td>\n",
       "    </tr>\n",
       "    <tr>\n",
       "      <th>mean</th>\n",
       "      <td>19779.457503</td>\n",
       "      <td>0.093741</td>\n",
       "      <td>NaN</td>\n",
       "      <td>NaN</td>\n",
       "      <td>1.154126e+06</td>\n",
       "      <td>3.436746e+05</td>\n",
       "      <td>3.627991e+04</td>\n",
       "      <td>6.116628e+04</td>\n",
       "      <td>6.160165e+04</td>\n",
       "      <td>5.735112e+04</td>\n",
       "      <td>...</td>\n",
       "      <td>0.010997</td>\n",
       "      <td>0.008166</td>\n",
       "      <td>0.007483</td>\n",
       "      <td>0.007281</td>\n",
       "      <td>0.006345</td>\n",
       "      <td>0.006143</td>\n",
       "      <td>0.005663</td>\n",
       "      <td>0.005410</td>\n",
       "      <td>0.005157</td>\n",
       "      <td>0.005132</td>\n",
       "    </tr>\n",
       "    <tr>\n",
       "      <th>std</th>\n",
       "      <td>11419.048442</td>\n",
       "      <td>0.291475</td>\n",
       "      <td>NaN</td>\n",
       "      <td>NaN</td>\n",
       "      <td>1.829822e+07</td>\n",
       "      <td>9.379180e+06</td>\n",
       "      <td>5.700457e+05</td>\n",
       "      <td>1.246376e+06</td>\n",
       "      <td>1.345988e+06</td>\n",
       "      <td>1.283801e+06</td>\n",
       "      <td>...</td>\n",
       "      <td>0.104290</td>\n",
       "      <td>0.089995</td>\n",
       "      <td>0.086182</td>\n",
       "      <td>0.085018</td>\n",
       "      <td>0.079406</td>\n",
       "      <td>0.078138</td>\n",
       "      <td>0.075040</td>\n",
       "      <td>0.073355</td>\n",
       "      <td>0.071629</td>\n",
       "      <td>0.071455</td>\n",
       "    </tr>\n",
       "    <tr>\n",
       "      <th>min</th>\n",
       "      <td>1.000000</td>\n",
       "      <td>0.000000</td>\n",
       "      <td>NaN</td>\n",
       "      <td>NaN</td>\n",
       "      <td>0.000000e+00</td>\n",
       "      <td>-1.364620e+02</td>\n",
       "      <td>-5.110000e+03</td>\n",
       "      <td>-2.645981e+07</td>\n",
       "      <td>-2.612563e+07</td>\n",
       "      <td>-2.631799e+07</td>\n",
       "      <td>...</td>\n",
       "      <td>0.000000</td>\n",
       "      <td>0.000000</td>\n",
       "      <td>0.000000</td>\n",
       "      <td>0.000000</td>\n",
       "      <td>0.000000</td>\n",
       "      <td>0.000000</td>\n",
       "      <td>0.000000</td>\n",
       "      <td>0.000000</td>\n",
       "      <td>0.000000</td>\n",
       "      <td>0.000000</td>\n",
       "    </tr>\n",
       "    <tr>\n",
       "      <th>25%</th>\n",
       "      <td>9890.750000</td>\n",
       "      <td>0.000000</td>\n",
       "      <td>NaN</td>\n",
       "      <td>NaN</td>\n",
       "      <td>3.859975e+04</td>\n",
       "      <td>0.000000e+00</td>\n",
       "      <td>9.490000e+02</td>\n",
       "      <td>1.438750e+03</td>\n",
       "      <td>1.110000e+03</td>\n",
       "      <td>8.590000e+02</td>\n",
       "      <td>...</td>\n",
       "      <td>0.000000</td>\n",
       "      <td>0.000000</td>\n",
       "      <td>0.000000</td>\n",
       "      <td>0.000000</td>\n",
       "      <td>0.000000</td>\n",
       "      <td>0.000000</td>\n",
       "      <td>0.000000</td>\n",
       "      <td>0.000000</td>\n",
       "      <td>0.000000</td>\n",
       "      <td>0.000000</td>\n",
       "    </tr>\n",
       "    <tr>\n",
       "      <th>50%</th>\n",
       "      <td>19779.500000</td>\n",
       "      <td>0.000000</td>\n",
       "      <td>NaN</td>\n",
       "      <td>NaN</td>\n",
       "      <td>1.213215e+05</td>\n",
       "      <td>0.000000e+00</td>\n",
       "      <td>2.954000e+03</td>\n",
       "      <td>6.274500e+03</td>\n",
       "      <td>5.434500e+03</td>\n",
       "      <td>4.788500e+03</td>\n",
       "      <td>...</td>\n",
       "      <td>0.000000</td>\n",
       "      <td>0.000000</td>\n",
       "      <td>0.000000</td>\n",
       "      <td>0.000000</td>\n",
       "      <td>0.000000</td>\n",
       "      <td>0.000000</td>\n",
       "      <td>0.000000</td>\n",
       "      <td>0.000000</td>\n",
       "      <td>0.000000</td>\n",
       "      <td>0.000000</td>\n",
       "    </tr>\n",
       "    <tr>\n",
       "      <th>75%</th>\n",
       "      <td>29668.250000</td>\n",
       "      <td>0.000000</td>\n",
       "      <td>NaN</td>\n",
       "      <td>NaN</td>\n",
       "      <td>3.753110e+05</td>\n",
       "      <td>0.000000e+00</td>\n",
       "      <td>1.024450e+04</td>\n",
       "      <td>2.394800e+04</td>\n",
       "      <td>2.261850e+04</td>\n",
       "      <td>2.082350e+04</td>\n",
       "      <td>...</td>\n",
       "      <td>0.000000</td>\n",
       "      <td>0.000000</td>\n",
       "      <td>0.000000</td>\n",
       "      <td>0.000000</td>\n",
       "      <td>0.000000</td>\n",
       "      <td>0.000000</td>\n",
       "      <td>0.000000</td>\n",
       "      <td>0.000000</td>\n",
       "      <td>0.000000</td>\n",
       "      <td>0.000000</td>\n",
       "    </tr>\n",
       "    <tr>\n",
       "      <th>max</th>\n",
       "      <td>39557.000000</td>\n",
       "      <td>1.000000</td>\n",
       "      <td>NaN</td>\n",
       "      <td>NaN</td>\n",
       "      <td>2.093063e+09</td>\n",
       "      <td>1.099307e+09</td>\n",
       "      <td>6.512882e+07</td>\n",
       "      <td>1.395462e+08</td>\n",
       "      <td>1.332409e+08</td>\n",
       "      <td>1.264905e+08</td>\n",
       "      <td>...</td>\n",
       "      <td>1.000000</td>\n",
       "      <td>1.000000</td>\n",
       "      <td>1.000000</td>\n",
       "      <td>1.000000</td>\n",
       "      <td>1.000000</td>\n",
       "      <td>1.000000</td>\n",
       "      <td>1.000000</td>\n",
       "      <td>1.000000</td>\n",
       "      <td>1.000000</td>\n",
       "      <td>1.000000</td>\n",
       "    </tr>\n",
       "  </tbody>\n",
       "</table>\n",
       "<p>11 rows × 176 columns</p>\n",
       "</div>"
      ],
      "text/plain": [
       "                  ID       DEFAULT SECTOR SUBSECTOR         O1000  \\\n",
       "count   39556.000000  19778.000000  39556     39556  3.955600e+04   \n",
       "unique           NaN           NaN     80        11           NaN   \n",
       "top              NaN           NaN     BI         C           NaN   \n",
       "freq             NaN           NaN   4820     11188           NaN   \n",
       "mean    19779.457503      0.093741    NaN       NaN  1.154126e+06   \n",
       "std     11419.048442      0.291475    NaN       NaN  1.829822e+07   \n",
       "min         1.000000      0.000000    NaN       NaN  0.000000e+00   \n",
       "25%      9890.750000      0.000000    NaN       NaN  3.859975e+04   \n",
       "50%     19779.500000      0.000000    NaN       NaN  1.213215e+05   \n",
       "75%     29668.250000      0.000000    NaN       NaN  3.753110e+05   \n",
       "max     39557.000000      1.000000    NaN       NaN  2.093063e+09   \n",
       "\n",
       "               O1200         O6000         P1000         P3000         P5000  \\\n",
       "count   3.955600e+04  3.955600e+04  3.955600e+04  3.955600e+04  3.955600e+04   \n",
       "unique           NaN           NaN           NaN           NaN           NaN   \n",
       "top              NaN           NaN           NaN           NaN           NaN   \n",
       "freq             NaN           NaN           NaN           NaN           NaN   \n",
       "mean    3.436746e+05  3.627991e+04  6.116628e+04  6.160165e+04  5.735112e+04   \n",
       "std     9.379180e+06  5.700457e+05  1.246376e+06  1.345988e+06  1.283801e+06   \n",
       "min    -1.364620e+02 -5.110000e+03 -2.645981e+07 -2.612563e+07 -2.631799e+07   \n",
       "25%     0.000000e+00  9.490000e+02  1.438750e+03  1.110000e+03  8.590000e+02   \n",
       "50%     0.000000e+00  2.954000e+03  6.274500e+03  5.434500e+03  4.788500e+03   \n",
       "75%     0.000000e+00  1.024450e+04  2.394800e+04  2.261850e+04  2.082350e+04   \n",
       "max     1.099307e+09  6.512882e+07  1.395462e+08  1.332409e+08  1.264905e+08   \n",
       "\n",
       "        ...  ENTITY=entity8  ENTITY=entity15  ENTITY=entity85  \\\n",
       "count   ...    39556.000000     39556.000000     39556.000000   \n",
       "unique  ...             NaN              NaN              NaN   \n",
       "top     ...             NaN              NaN              NaN   \n",
       "freq    ...             NaN              NaN              NaN   \n",
       "mean    ...        0.010997         0.008166         0.007483   \n",
       "std     ...        0.104290         0.089995         0.086182   \n",
       "min     ...        0.000000         0.000000         0.000000   \n",
       "25%     ...        0.000000         0.000000         0.000000   \n",
       "50%     ...        0.000000         0.000000         0.000000   \n",
       "75%     ...        0.000000         0.000000         0.000000   \n",
       "max     ...        1.000000         1.000000         1.000000   \n",
       "\n",
       "        ENTITY=entity31  ENTITY=entity45  ENTITY=entity46  ENTITY=entity42  \\\n",
       "count      39556.000000     39556.000000     39556.000000     39556.000000   \n",
       "unique              NaN              NaN              NaN              NaN   \n",
       "top                 NaN              NaN              NaN              NaN   \n",
       "freq                NaN              NaN              NaN              NaN   \n",
       "mean           0.007281         0.006345         0.006143         0.005663   \n",
       "std            0.085018         0.079406         0.078138         0.075040   \n",
       "min            0.000000         0.000000         0.000000         0.000000   \n",
       "25%            0.000000         0.000000         0.000000         0.000000   \n",
       "50%            0.000000         0.000000         0.000000         0.000000   \n",
       "75%            0.000000         0.000000         0.000000         0.000000   \n",
       "max            1.000000         1.000000         1.000000         1.000000   \n",
       "\n",
       "        ENTITY=entity59  ENTITY=entity50  ENTITY=entity37  \n",
       "count      39556.000000     39556.000000     39556.000000  \n",
       "unique              NaN              NaN              NaN  \n",
       "top                 NaN              NaN              NaN  \n",
       "freq                NaN              NaN              NaN  \n",
       "mean           0.005410         0.005157         0.005132  \n",
       "std            0.073355         0.071629         0.071455  \n",
       "min            0.000000         0.000000         0.000000  \n",
       "25%            0.000000         0.000000         0.000000  \n",
       "50%            0.000000         0.000000         0.000000  \n",
       "75%            0.000000         0.000000         0.000000  \n",
       "max            1.000000         1.000000         1.000000  \n",
       "\n",
       "[11 rows x 176 columns]"
      ]
     },
     "execution_count": 42,
     "metadata": {},
     "output_type": "execute_result"
    }
   ],
   "source": [
    "df_orig_all.describe(include='all')"
   ]
  },
  {
   "cell_type": "code",
   "execution_count": 43,
   "metadata": {},
   "outputs": [
    {
     "name": "stdout",
     "output_type": "stream",
     "text": [
      "['ID', 'DEFAULT', 'SECTOR', 'SUBSECTOR', 'O1000', 'O1200', 'O6000', 'P1000', 'P3000', 'P5000', 'N1000', 'N1100', 'N1300', 'N3000', 'N3200', 'N3300', 'M0000', 'M1100', 'M1200', 'M1300', 'M2200', 'M2300', 'M2400', 'CONTRACT_SUM', 'CONTRACT_TYPE', 'CONTRACT_SUBTYPE', 'DIM_DENOM_DEV_ID', 'MODE', 'FREQ', 'UK', 'PH', 'KKV', 'EXPOSURE', 'SIZE_CAT', 'EXPSHARE', 'DUR', 'ENTITY', 'MONTH', 'DAY', 'TRAIN_OR_TEST', 'UK_WAS_MISSING', 'PH_WAS_MISSING', 'KKV_WAS_MISSING', 'EXPOSURE_WAS_MISSING', 'EXPSHARE_WAS_MISSING', 'DUR_WAS_MISSING', 'O6000_WAS_MISSING', 'P1000_WAS_MISSING', 'P3000_WAS_MISSING', 'P5000_WAS_MISSING', 'N1000_WAS_MISSING', 'N3000_WAS_MISSING', 'M1200_WAS_MISSING', 'M1300_WAS_MISSING', 'M2400_WAS_MISSING', 'MODE_WAS_MISSING', 'FREQ_WAS_MISSING', 'SECTOR=BI', 'SECTOR=BJ', 'SECTOR=BG', 'SECTOR=BK', 'SECTOR=CA', 'SECTOR=BH', 'SECTOR=BE', 'SECTOR=AC', 'SECTOR=CD', 'SECTOR=AQ', 'SECTOR=CQ', 'SECTOR=CC', 'SECTOR=BQ', 'SECTOR=BV', 'SECTOR=CB', 'SECTOR=BF', 'SECTOR=AB', 'SECTOR=AF', 'SECTOR=AH', 'SECTOR=CM', 'SECTOR=CN', 'SECTOR=BN', 'SECTOR=AN', 'SECTOR=AT', 'SECTOR=AY', 'SECTOR=CG', 'SECTOR=CI', 'SECTOR=CF', 'SECTOR=CL', 'SECTOR=CP', 'SECTOR=AJ', 'SECTOR=BZ', 'SECTOR=AW', 'SECTOR=BP', 'SECTOR=AO', 'SECTOR=DA', 'SECTOR=BR', 'SECTOR=AX', 'SECTOR=BC', 'SECTOR=CX', 'SECTOR=CZ', 'SECTOR=AR', 'SECTOR=BW', 'SECTOR=AZ', 'SECTOR=AS', 'SECTOR=CJ', 'SECTOR=CE', 'SECTOR=CU', 'SECTOR=CK', 'SECTOR=BS', 'SECTOR=BU', 'SECTOR=AI', 'SECTOR=AE', 'SECTOR=AL', 'SECTOR=AU', 'SECTOR=AD', 'SUBSECTOR=C', 'SUBSECTOR=D', 'SUBSECTOR=E', 'SUBSECTOR=F', 'SUBSECTOR=I', 'SUBSECTOR=K', 'SUBSECTOR=B', 'SUBSECTOR=G', 'SUBSECTOR=H', 'CONTRACT_TYPE=C', 'CONTRACT_TYPE=A', 'CONTRACT_SUBTYPE=C', 'CONTRACT_SUBTYPE=G', 'CONTRACT_SUBTYPE=D', 'CONTRACT_SUBTYPE=A', 'CONTRACT_SUBTYPE=F', 'DIM_DENOM_DEV_ID=C', 'DIM_DENOM_DEV_ID=B', 'MODE=L', 'MODE=P', 'MODE=C', 'MODE=F', 'MODE=J', 'MODE=G', 'MODE=I', 'MODE=H', 'MODE=D', 'MODE=B', 'FREQ=F', 'FREQ=B', 'FREQ=C', 'FREQ=H', 'SIZE_CAT=kat2', 'SIZE_CAT=kat3', 'SIZE_CAT=kat1', 'SIZE_CAT=kat4', 'SIZE_CAT=kat5', 'SIZE_CAT=kat6', 'ENTITY=entity2', 'ENTITY=entity16', 'ENTITY=entity10', 'ENTITY=entity13', 'ENTITY=entity12', 'ENTITY=entity25', 'ENTITY=entity14', 'ENTITY=entity18', 'ENTITY=entity24', 'ENTITY=entity34', 'ENTITY=entity1', 'ENTITY=entity38', 'ENTITY=entity3', 'ENTITY=entity21', 'ENTITY=entity9', 'ENTITY=entity8', 'ENTITY=entity15', 'ENTITY=entity85', 'ENTITY=entity31', 'ENTITY=entity45', 'ENTITY=entity46', 'ENTITY=entity42', 'ENTITY=entity59', 'ENTITY=entity50', 'ENTITY=entity37']\n"
     ]
    }
   ],
   "source": [
    "print(list(df_orig_all.columns))"
   ]
  },
  {
   "cell_type": "code",
   "execution_count": 44,
   "metadata": {},
   "outputs": [],
   "source": [
    "input_columns = ['O1000', 'O1200', 'O6000', 'P1000', 'P3000', 'P5000', 'N1000', 'N1100', 'N1300', 'N3000',\n",
    "                 'N3200', 'N3300', 'M0000', 'M1100', 'M1200', 'M1300', 'M2200', 'M2300', 'M2400', 'CONTRACT_SUM',\n",
    "                 'UK', 'PH', 'KKV', 'EXPOSURE', 'EXPSHARE', 'DUR', 'MONTH', 'DAY', 'UK_WAS_MISSING', 'PH_WAS_MISSING',\n",
    "                 'KKV_WAS_MISSING', 'EXPOSURE_WAS_MISSING',\n",
    "                 'EXPSHARE_WAS_MISSING', 'DUR_WAS_MISSING', 'O6000_WAS_MISSING', 'P1000_WAS_MISSING',\n",
    "                 'P3000_WAS_MISSING', 'P5000_WAS_MISSING', 'N3000_WAS_MISSING', 'MODE_WAS_MISSING',\n",
    "                 'FREQ_WAS_MISSING', 'SECTOR=BI', 'SECTOR=BJ', 'SECTOR=BG', 'SECTOR=BK', 'SECTOR=BH',\n",
    "                 'SECTOR=CA', 'SECTOR=BE', 'SECTOR=AC', 'SECTOR=CD', 'SECTOR=AQ', 'SECTOR=CQ', 'SECTOR=CC',\n",
    "                 'SECTOR=BQ', 'SECTOR=BV', 'SECTOR=CB', 'SECTOR=AB', 'SECTOR=AF', 'SECTOR=BF', 'SECTOR=AH',\n",
    "                 'SECTOR=CN', 'SECTOR=CM', 'SECTOR=BN', 'SECTOR=AN', 'SECTOR=AT', 'SECTOR=AY', 'SECTOR=CG',\n",
    "                 'SECTOR=CF', 'SECTOR=CL', 'SECTOR=CP', 'SECTOR=CI', 'SECTOR=AJ', 'SECTOR=BZ', 'SECTOR=AW',\n",
    "                 'SECTOR=BP', 'SUBSECTOR=C', 'SUBSECTOR=D', 'SUBSECTOR=E', 'SUBSECTOR=F', 'SUBSECTOR=K',\n",
    "                 'SUBSECTOR=I', 'SUBSECTOR=B', 'SUBSECTOR=H', 'SUBSECTOR=G', 'CONTRACT_TYPE=C', 'CONTRACT_TYPE=A',\n",
    "                 'CONTRACT_SUBTYPE=C', 'CONTRACT_SUBTYPE=G', 'CONTRACT_SUBTYPE=D', 'CONTRACT_SUBTYPE=A',\n",
    "                 'CONTRACT_SUBTYPE=F', 'DIM_DENOM_DEV_ID=C', 'DIM_DENOM_DEV_ID=B', 'MODE=L', 'MODE=P', 'MODE=C',\n",
    "                 'MODE=F', 'MODE=J', 'MODE=G', 'MODE=I', 'MODE=H', 'FREQ=F', 'FREQ=B', 'FREQ=C', 'SIZE_CAT=kat2',\n",
    "                 'SIZE_CAT=kat3', 'SIZE_CAT=kat1', 'SIZE_CAT=kat4', 'SIZE_CAT=kat5', 'SIZE_CAT=kat6', 'ENTITY=entity2',\n",
    "                 'ENTITY=entity16', 'ENTITY=entity10', 'ENTITY=entity13', 'ENTITY=entity12', 'ENTITY=entity25',\n",
    "                 'ENTITY=entity14', 'ENTITY=entity24', 'ENTITY=entity18', 'ENTITY=entity34', 'ENTITY=entity1',\n",
    "                 'ENTITY=entity38', 'ENTITY=entity3', 'ENTITY=entity21', 'ENTITY=entity9', 'ENTITY=entity8']\n",
    "target = 'DEFAULT'\n",
    "df_train = scaled_df[scaled_df['TRAIN_OR_TEST'] == 'train'].copy()"
   ]
  },
  {
   "cell_type": "code",
   "execution_count": 46,
   "metadata": {},
   "outputs": [
    {
     "ename": "AttributeError",
     "evalue": "'GridSearchCV' object has no attribute 'grid_scores_'",
     "output_type": "error",
     "traceback": [
      "\u001b[1;31m---------------------------------------------------------------------------\u001b[0m",
      "\u001b[1;31mAttributeError\u001b[0m                            Traceback (most recent call last)",
      "\u001b[1;32m<ipython-input-46-489903f4d1e0>\u001b[0m in \u001b[0;36m<module>\u001b[1;34m\u001b[0m\n\u001b[0;32m      5\u001b[0m \u001b[1;33m\u001b[0m\u001b[0m\n\u001b[0;32m      6\u001b[0m \u001b[0mtuning\u001b[0m\u001b[1;33m.\u001b[0m\u001b[0mfit\u001b[0m\u001b[1;33m(\u001b[0m\u001b[0mdf_train\u001b[0m\u001b[1;33m[\u001b[0m\u001b[0minput_columns\u001b[0m\u001b[1;33m]\u001b[0m\u001b[1;33m,\u001b[0m \u001b[0mdf_train\u001b[0m\u001b[1;33m[\u001b[0m\u001b[0mtarget\u001b[0m\u001b[1;33m]\u001b[0m\u001b[1;33m)\u001b[0m\u001b[1;33m\u001b[0m\u001b[1;33m\u001b[0m\u001b[0m\n\u001b[1;32m----> 7\u001b[1;33m \u001b[0mtuning\u001b[0m\u001b[1;33m.\u001b[0m\u001b[0mgrid_scores_\u001b[0m\u001b[1;33m,\u001b[0m \u001b[0mtuning\u001b[0m\u001b[1;33m.\u001b[0m\u001b[0mbest_params_\u001b[0m\u001b[1;33m,\u001b[0m \u001b[0mtuning\u001b[0m\u001b[1;33m.\u001b[0m\u001b[0mbest_score_\u001b[0m\u001b[1;33m\u001b[0m\u001b[1;33m\u001b[0m\u001b[0m\n\u001b[0m",
      "\u001b[1;31mAttributeError\u001b[0m: 'GridSearchCV' object has no attribute 'grid_scores_'"
     ]
    }
   ],
   "source": [
    "# https://www.datacareer.de/blog/parameter-tuning-in-gradient-boosting-gbm/\n",
    "p_test = {'learning_rate': [0.15, 0.1, 0.05, 0.01, 0.005, 0.001], 'n_estimators': [100, 250, 500, 750, 1000, 1250, 1500, 1750]}\n",
    "tuning = GridSearchCV(estimator=GradientBoostingClassifier(random_state=42), \n",
    "             param_grid=p_test, scoring='roc_auc', n_jobs=-1, cv=10)\n",
    "\n",
    "tuning.fit(df_train[input_columns], df_train[target])"
   ]
  },
  {
   "cell_type": "code",
   "execution_count": 54,
   "metadata": {},
   "outputs": [
    {
     "data": {
      "text/plain": [
       "{'min_samples_leaf': 5, 'min_samples_split': 2}"
      ]
     },
     "execution_count": 54,
     "metadata": {},
     "output_type": "execute_result"
    }
   ],
   "source": [
    "# Legjobb paraméterek:\n",
    "#  - learning_rate=0.05\n",
    "#  - n_estimators=500\n",
    "tuning.best_params_"
   ]
  },
  {
   "cell_type": "code",
   "execution_count": 49,
   "metadata": {},
   "outputs": [
    {
     "data": {
      "text/plain": [
       "GridSearchCV(cv=10,\n",
       "             estimator=GradientBoostingClassifier(learning_rate=0.05,\n",
       "                                                  n_estimators=500,\n",
       "                                                  random_state=42),\n",
       "             n_jobs=-1, param_grid={'max_depth': [2, 3, 4, 5, 6, 7]},\n",
       "             scoring='roc_auc')"
      ]
     },
     "execution_count": 49,
     "metadata": {},
     "output_type": "execute_result"
    }
   ],
   "source": [
    "# https://www.datacareer.de/blog/parameter-tuning-in-gradient-boosting-gbm/\n",
    "p_test2 = {'max_depth':[2, 3, 4, 5, 6, 7] }\n",
    "tuning = GridSearchCV(estimator=GradientBoostingClassifier(learning_rate=0.05, n_estimators=500, random_state=42), \n",
    "            param_grid=p_test2, scoring='roc_auc', n_jobs=-1, cv=10)\n",
    "\n",
    "tuning.fit(df_train[input_columns], df_train[target])"
   ]
  },
  {
   "cell_type": "code",
   "execution_count": 50,
   "metadata": {},
   "outputs": [
    {
     "data": {
      "text/plain": [
       "GradientBoostingClassifier(learning_rate=0.05, max_depth=4, n_estimators=500,\n",
       "                           random_state=42)"
      ]
     },
     "execution_count": 50,
     "metadata": {},
     "output_type": "execute_result"
    }
   ],
   "source": [
    "# Legjobb paraméterek:\n",
    "#  - max_depth=4\n",
    "tuning.best_params_"
   ]
  },
  {
   "cell_type": "code",
   "execution_count": 51,
   "metadata": {},
   "outputs": [
    {
     "data": {
      "text/plain": [
       "GridSearchCV(cv=10,\n",
       "             estimator=GradientBoostingClassifier(learning_rate=0.05,\n",
       "                                                  max_depth=4, n_estimators=500,\n",
       "                                                  random_state=42),\n",
       "             n_jobs=-1,\n",
       "             param_grid={'min_samples_leaf': [1, 3, 5, 7, 9],\n",
       "                         'min_samples_split': [2, 4, 6, 8, 10, 20, 40, 60,\n",
       "                                               100]},\n",
       "             scoring='roc_auc')"
      ]
     },
     "execution_count": 51,
     "metadata": {},
     "output_type": "execute_result"
    }
   ],
   "source": [
    "# https://www.datacareer.de/blog/parameter-tuning-in-gradient-boosting-gbm/\n",
    "p_test3 = {'min_samples_split': [2, 4, 6, 8, 10, 20, 40, 60, 100], 'min_samples_leaf':[1, 3, 5, 7, 9]}\n",
    "tuning = GridSearchCV(estimator=GradientBoostingClassifier(learning_rate=0.05, n_estimators=500, max_depth=4, random_state=42), \n",
    "            param_grid=p_test3, scoring='roc_auc', n_jobs=-1, cv=10)\n",
    "\n",
    "tuning.fit(df_train[input_columns], df_train[target])"
   ]
  },
  {
   "cell_type": "code",
   "execution_count": 55,
   "metadata": {},
   "outputs": [
    {
     "data": {
      "text/plain": [
       "{'min_samples_leaf': 5, 'min_samples_split': 2}"
      ]
     },
     "execution_count": 55,
     "metadata": {},
     "output_type": "execute_result"
    }
   ],
   "source": [
    "# Legjobb paraméterek:\n",
    "#  - min_samples_split=2\n",
    "#  - min_samples_leaf=5\n",
    "tuning.best_params_"
   ]
  },
  {
   "cell_type": "code",
   "execution_count": 68,
   "metadata": {},
   "outputs": [
    {
     "data": {
      "text/plain": [
       "GridSearchCV(cv=10,\n",
       "             estimator=GradientBoostingClassifier(learning_rate=0.05,\n",
       "                                                  max_depth=4,\n",
       "                                                  min_samples_leaf=5,\n",
       "                                                  n_estimators=500,\n",
       "                                                  random_state=42),\n",
       "             n_jobs=-1,\n",
       "             param_grid={'max_features': [2, 3, 4, 5, 6, 7, 8, 9, 10, 11, 12,\n",
       "                                          13, 14, 15, 16, 17, 18, 19, 20]},\n",
       "             scoring='roc_auc')"
      ]
     },
     "execution_count": 68,
     "metadata": {},
     "output_type": "execute_result"
    }
   ],
   "source": [
    "p_test4 = {'max_features': [2, 3, 4, 5, 6, 7, 8, 9, 10, 11, 12, 13, 14, 15, 16, 17, 18, 19, 20]}\n",
    "tuning = GridSearchCV(estimator=GradientBoostingClassifier(learning_rate=0.05, n_estimators=500, max_depth=4,\n",
    "                                                           min_samples_split=2, min_samples_leaf=5, random_state=42), \n",
    "                      param_grid=p_test4, scoring='roc_auc', n_jobs=-1, cv=10)\n",
    "\n",
    "tuning.fit(df_train[input_columns], df_train[target])"
   ]
  },
  {
   "cell_type": "code",
   "execution_count": 69,
   "metadata": {},
   "outputs": [
    {
     "data": {
      "text/plain": [
       "{'max_features': 10}"
      ]
     },
     "execution_count": 69,
     "metadata": {},
     "output_type": "execute_result"
    }
   ],
   "source": [
    "# Legjobb paraméterek:\n",
    "#  - max_features=10\n",
    "tuning.best_params_"
   ]
  },
  {
   "cell_type": "code",
   "execution_count": 70,
   "metadata": {},
   "outputs": [
    {
     "data": {
      "text/plain": [
       "GridSearchCV(cv=10,\n",
       "             estimator=GradientBoostingClassifier(learning_rate=0.05,\n",
       "                                                  max_depth=4, max_features=10,\n",
       "                                                  min_samples_leaf=5,\n",
       "                                                  n_estimators=500,\n",
       "                                                  random_state=42),\n",
       "             n_jobs=-1,\n",
       "             param_grid={'subsample': [0.7, 0.75, 0.8, 0.85, 0.9, 0.95, 1]},\n",
       "             scoring='roc_auc')"
      ]
     },
     "execution_count": 70,
     "metadata": {},
     "output_type": "execute_result"
    }
   ],
   "source": [
    "p_test5 = {'subsample': [0.7, 0.75, 0.8, 0.85, 0.9, 0.95, 1]}\n",
    "tuning = GridSearchCV(estimator=GradientBoostingClassifier(learning_rate=0.05, n_estimators=500, max_depth=4,\n",
    "                                                           min_samples_split=2, min_samples_leaf=5,\n",
    "                                                           max_features=10, random_state=42), \n",
    "                      param_grid=p_test5, scoring='roc_auc', n_jobs=-1, cv=10)\n",
    "\n",
    "tuning.fit(df_train[input_columns], df_train[target])"
   ]
  },
  {
   "cell_type": "code",
   "execution_count": 71,
   "metadata": {},
   "outputs": [
    {
     "data": {
      "text/plain": [
       "{'subsample': 1}"
      ]
     },
     "execution_count": 71,
     "metadata": {},
     "output_type": "execute_result"
    }
   ],
   "source": [
    "# Legjobb paraméterek:\n",
    "#  - subsample=1\n",
    "tuning.best_params_"
   ]
  },
  {
   "cell_type": "markdown",
   "metadata": {},
   "source": [
    "## Modellépítés"
   ]
  },
  {
   "cell_type": "code",
   "execution_count": 56,
   "metadata": {},
   "outputs": [],
   "source": [
    "# df_cv_result = cross_validate(df_train, target, input_columns)\n",
    "# df_cv_result"
   ]
  },
  {
   "cell_type": "code",
   "execution_count": 57,
   "metadata": {},
   "outputs": [],
   "source": [
    "# Legjobb paraméterkombináció\n",
    "# df_cv_result.loc[df_cv_result['avgAUC'].idxmax()]"
   ]
  },
  {
   "cell_type": "markdown",
   "metadata": {},
   "source": [
    "# Tesztelés"
   ]
  },
  {
   "cell_type": "code",
   "execution_count": 72,
   "metadata": {},
   "outputs": [],
   "source": [
    "df_train = scaled_df[scaled_df['TRAIN_OR_TEST'] == 'train'].copy()"
   ]
  },
  {
   "cell_type": "code",
   "execution_count": 73,
   "metadata": {},
   "outputs": [],
   "source": [
    "model = GradientBoostingClassifier(learning_rate=0.05, n_estimators=500,\n",
    "                                   max_depth=4, min_samples_split=2,\n",
    "                                   min_samples_leaf=5, max_features=10,\n",
    "                                   subsample=1, random_state=42)\n",
    "model.fit(df_train[input_columns], df_train[target])\n",
    "df_public_test, df_private_test = train_test_split(df_train, test_size=0.5)"
   ]
  },
  {
   "cell_type": "code",
   "execution_count": 74,
   "metadata": {},
   "outputs": [
    {
     "name": "stderr",
     "output_type": "stream",
     "text": [
      "D:\\Programs\\Anaconda\\envs\\Python_3.6\\lib\\site-packages\\ipykernel_launcher.py:1: SettingWithCopyWarning: \n",
      "A value is trying to be set on a copy of a slice from a DataFrame.\n",
      "Try using .loc[row_indexer,col_indexer] = value instead\n",
      "\n",
      "See the caveats in the documentation: https://pandas.pydata.org/pandas-docs/stable/user_guide/indexing.html#returning-a-view-versus-a-copy\n",
      "  \"\"\"Entry point for launching an IPython kernel.\n",
      "D:\\Programs\\Anaconda\\envs\\Python_3.6\\lib\\site-packages\\ipykernel_launcher.py:2: SettingWithCopyWarning: \n",
      "A value is trying to be set on a copy of a slice from a DataFrame.\n",
      "Try using .loc[row_indexer,col_indexer] = value instead\n",
      "\n",
      "See the caveats in the documentation: https://pandas.pydata.org/pandas-docs/stable/user_guide/indexing.html#returning-a-view-versus-a-copy\n",
      "  \n"
     ]
    }
   ],
   "source": [
    "df_public_test['pred'] = model.predict_proba(df_public_test[input_columns])[:,1]\n",
    "df_private_test['pred'] = model.predict_proba(df_private_test[input_columns])[:,1]"
   ]
  },
  {
   "cell_type": "code",
   "execution_count": 75,
   "metadata": {},
   "outputs": [
    {
     "name": "stdout",
     "output_type": "stream",
     "text": [
      "0.9166338125020345\n"
     ]
    }
   ],
   "source": [
    "auc_scores = []\n",
    "auc_scores.append(roc_auc_score(df_public_test[target], df_public_test['pred']))\n",
    "auc_scores.append(roc_auc_score(df_private_test[target], df_private_test['pred']))\n",
    "avg_auc = np.mean(auc_scores)\n",
    "print(avg_auc)"
   ]
  },
  {
   "cell_type": "markdown",
   "metadata": {},
   "source": [
    "## Beküldés"
   ]
  },
  {
   "cell_type": "code",
   "execution_count": 76,
   "metadata": {},
   "outputs": [],
   "source": [
    "df_test = scaled_df[scaled_df['TRAIN_OR_TEST'] == 'test'].copy()\n",
    "df_test['PROBA_OF_DEFAULT'] = model.predict_proba(df_test[input_columns])[:,1]"
   ]
  },
  {
   "cell_type": "code",
   "execution_count": 77,
   "metadata": {},
   "outputs": [
    {
     "data": {
      "text/plain": [
       "<AxesSubplot:>"
      ]
     },
     "execution_count": 77,
     "metadata": {},
     "output_type": "execute_result"
    },
    {
     "data": {
      "image/png": "[encoded data removed]",
      "text/plain": [
       "<Figure size 432x288 with 1 Axes>"
      ]
     },
     "metadata": {
      "needs_background": "light"
     },
     "output_type": "display_data"
    }
   ],
   "source": [
    "bekuldendo = df_test[['ID', 'PROBA_OF_DEFAULT']]\n",
    "bekuldendo['PROBA_OF_DEFAULT'].hist(bins=100)"
   ]
  },
  {
   "cell_type": "code",
   "execution_count": 78,
   "metadata": {},
   "outputs": [],
   "source": [
    "bekuldendo.to_csv('elso_megfejtesem_LL.csv', index=False)"
   ]
  }
 ],
 "metadata": {
  "kernelspec": {
   "display_name": "Python 3",
   "language": "python",
   "name": "python3"
  },
  "language_info": {
   "codemirror_mode": {
    "name": "ipython",
    "version": 3
   },
   "file_extension": ".py",
   "mimetype": "text/x-python",
   "name": "python",
   "nbconvert_exporter": "python",
   "pygments_lexer": "ipython3",
   "version": "3.6.13"
  }
 },
 "nbformat": 4,
 "nbformat_minor": 4
}
